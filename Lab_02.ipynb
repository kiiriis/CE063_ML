{
  "nbformat": 4,
  "nbformat_minor": 0,
  "metadata": {
    "colab": {
      "provenance": [],
      "mount_file_id": "1VOgDj-N-TQxRFNJYzJxwN19o9JELGj2R",
      "authorship_tag": "ABX9TyMy5ewoPyJ5qT2KSCAYEHuP",
      "include_colab_link": true
    },
    "kernelspec": {
      "name": "python3",
      "display_name": "Python 3"
    },
    "language_info": {
      "name": "python"
    }
  },
  "cells": [
    {
      "cell_type": "markdown",
      "metadata": {
        "id": "view-in-github",
        "colab_type": "text"
      },
      "source": [
        "<a href=\"https://colab.research.google.com/github/kiiriis/CE063_ML/blob/main/Lab_02.ipynb\" target=\"_parent\"><img src=\"https://colab.research.google.com/assets/colab-badge.svg\" alt=\"Open In Colab\"/></a>"
      ]
    },
    {
      "cell_type": "markdown",
      "source": [
        "#Exercise\n",
        "######Perform all data preprocessing tasks and feature selection on \"Exercise-CarData.csv\""
      ],
      "metadata": {
        "id": "_UJXmgxng4Qt"
      }
    },
    {
      "cell_type": "code",
      "source": [
        "import numpy as np\n",
        "import pandas as pd\n",
        "\n",
        "# Identifying the null values\n",
        "\n",
        "missing_values = [\"??\", \"????\", None, \"NaN\", np.nan]\n",
        "\n",
        "df = pd.read_csv(\"/content/drive/MyDrive/SEM-VI/ML/Exercise-CarData.csv\",na_values=missing_values)\n",
        "\n",
        "cnt = 0\n",
        "for val in df['Price']:\n",
        "  if type(val)!=type(3):\n",
        "    df.loc[cnt, 'Price']=np.nan\n",
        "  else:\n",
        "    df.loc[cnt, 'Price'] = int(val)\n",
        "  cnt+=1\n",
        "\n",
        "cnt = 0\n",
        "for val in df['Age']:\n",
        "  try:\n",
        "    if type(int(val))!=type(3):\n",
        "      df.loc[cnt, 'Age']=np.nan\n",
        "    else:\n",
        "      df.loc[cnt, 'Age'] = int(val)\n",
        "  except ValueError:\n",
        "    df.loc[cnt, 'Age']=np.nan\n",
        "    pass\n",
        "  cnt+=1\n",
        "\n",
        "cnt = 0\n",
        "for val in df['KM']:\n",
        "  try:\n",
        "    if type(int(val))!=type(3):\n",
        "      df.loc[cnt, 'KM']=np.nan\n",
        "    else:\n",
        "      df.loc[cnt, 'KM'] = int(val)\n",
        "  except ValueError:\n",
        "    df.loc[cnt, 'KM']=np.nan\n",
        "    pass\n",
        "  cnt+=1\n",
        "\n",
        "cnt = 0\n",
        "for val in df['FuelType']:\n",
        "  try:\n",
        "      int(val)\n",
        "      df.loc[cnt, 'FuelType']=np.nan\n",
        "  except ValueError:\n",
        "      pass\n",
        "  cnt+=1\n",
        "\n",
        "cnt = 0\n",
        "for val in df['HP']:\n",
        "  try:\n",
        "    if type(int(val))!=type(3):\n",
        "      df.loc[cnt, 'HP']=np.nan\n",
        "    else:\n",
        "      df.loc[cnt, 'HP'] = int(val)\n",
        "  except ValueError:\n",
        "    df.loc[cnt, 'HP']=np.nan\n",
        "    pass\n",
        "  cnt+=1\n",
        "\n",
        "cnt = 0\n",
        "for val in df['MetColor']:\n",
        "  try:\n",
        "    if type(int(val))!=type(3):\n",
        "      df.loc[cnt, 'MetColor']=np.nan\n",
        "    else:\n",
        "      df.loc[cnt, 'MetColor'] = int(val)\n",
        "  except ValueError:\n",
        "    df.loc[cnt, 'MetColor']=np.nan\n",
        "    pass\n",
        "  cnt+=1\n",
        "\n",
        "cnt = 0\n",
        "for val in df['Automatic']:\n",
        "  try:\n",
        "    if type(int(val))!=type(3):\n",
        "      df.loc[cnt, 'Automatic']=np.nan\n",
        "    else:\n",
        "      df.loc[cnt, 'Automatic'] = int(val)\n",
        "  except ValueError:\n",
        "    df.loc[cnt, 'Automatic']=np.nan\n",
        "    pass\n",
        "  cnt+=1\n",
        "\n",
        "cnt = 0\n",
        "for val in df['CC']:\n",
        "  try:\n",
        "    if type(int(val))!=type(3):\n",
        "      df.loc[cnt, 'CC']=np.nan\n",
        "    else:\n",
        "      df.loc[cnt, 'CC'] = int(val)\n",
        "  except ValueError:\n",
        "    df.loc[cnt, 'CC']=np.nan\n",
        "    pass\n",
        "  cnt+=1\n",
        "\n",
        "cnt = 0\n",
        "for val in df['Doors']:\n",
        "  try:\n",
        "    if type(int(val))!=type(3):\n",
        "      df.loc[cnt, 'Doors']=np.nan\n",
        "    else:\n",
        "      df.loc[cnt, 'Doors'] = int(val)\n",
        "  except ValueError:\n",
        "    df.loc[cnt, 'Doors']=np.nan\n",
        "    pass\n",
        "  cnt+=1\n",
        "\n",
        "cnt = 0\n",
        "for val in df['Weight']:\n",
        "  try:\n",
        "    if type(int(val))!=type(3):\n",
        "      df.loc[cnt, 'Weight']=np.nan\n",
        "    else:\n",
        "      df.loc[cnt, 'Weight'] = int(val)\n",
        "  except ValueError:\n",
        "    df.loc[cnt, 'Weight']=np.nan\n",
        "    pass\n",
        "  cnt+=1\n",
        "\n",
        "print(df.isnull().sum())\n",
        "print(\"Total dirty values: \",df.isnull().sum().sum())"
      ],
      "metadata": {
        "colab": {
          "base_uri": "https://localhost:8080/"
        },
        "id": "3GJ252ythOaP",
        "outputId": "e671b949-74e0-4ded-b065-08b649039ce5"
      },
      "execution_count": null,
      "outputs": [
        {
          "output_type": "stream",
          "name": "stdout",
          "text": [
            "Unnamed: 0      0\n",
            "Price           0\n",
            "Age           100\n",
            "KM             15\n",
            "FuelType      100\n",
            "HP              6\n",
            "MetColor      150\n",
            "Automatic       0\n",
            "CC              0\n",
            "Doors           3\n",
            "Weight          0\n",
            "dtype: int64\n",
            "Total dirty values:  374\n"
          ]
        }
      ]
    },
    {
      "cell_type": "code",
      "source": [
        "# Removing the null values where the complete row in empty\n",
        "datasets = df\n",
        "x = datasets.iloc[:,1:].values"
      ],
      "metadata": {
        "id": "MX9CaYxDhP20"
      },
      "execution_count": null,
      "outputs": []
    },
    {
      "cell_type": "code",
      "source": [
        "from sklearn.preprocessing import OneHotEncoder\n",
        "\n",
        "print(datasets.head())\n",
        "# Dropping all the rows having any NaN values\n",
        "datasets.dropna(axis=0, how='any', inplace=True)\n",
        "print(datasets.head())"
      ],
      "metadata": {
        "colab": {
          "base_uri": "https://localhost:8080/"
        },
        "id": "pZ7XD_uDhTm1",
        "outputId": "34f2878b-67cd-41ff-da17-ef97ba76153c"
      },
      "execution_count": null,
      "outputs": [
        {
          "output_type": "stream",
          "name": "stdout",
          "text": [
            "   Unnamed: 0  Price   Age       KM FuelType    HP  MetColor  Automatic    CC  \\\n",
            "0           0  13500  23.0  46986.0   Diesel  90.0       1.0          0  2000   \n",
            "1           1  13750  23.0  72937.0   Diesel  90.0       1.0          0  2000   \n",
            "2           2  13950  24.0  41711.0   Diesel  90.0       NaN          0  2000   \n",
            "3           3  14950  26.0  48000.0   Diesel  90.0       0.0          0  2000   \n",
            "4           4  13750  30.0  38500.0   Diesel  90.0       0.0          0  2000   \n",
            "\n",
            "  Doors  Weight  \n",
            "0   NaN    1165  \n",
            "1     3    1165  \n",
            "2     3    1165  \n",
            "3     3    1165  \n",
            "4     3    1170  \n",
            "   Unnamed: 0  Price   Age       KM FuelType     HP  MetColor  Automatic  \\\n",
            "1           1  13750  23.0  72937.0   Diesel   90.0       1.0          0   \n",
            "3           3  14950  26.0  48000.0   Diesel   90.0       0.0          0   \n",
            "4           4  13750  30.0  38500.0   Diesel   90.0       0.0          0   \n",
            "5           5  12950  32.0  61000.0   Diesel   90.0       0.0          0   \n",
            "8           8  21500  27.0  19700.0   Petrol  192.0       0.0          0   \n",
            "\n",
            "     CC Doors  Weight  \n",
            "1  2000     3    1165  \n",
            "3  2000     3    1165  \n",
            "4  2000     3    1170  \n",
            "5  2000     3    1170  \n",
            "8  1800     3    1185  \n"
          ]
        }
      ]
    },
    {
      "cell_type": "code",
      "source": [
        "# One hot for Fuel type\n",
        "\n",
        "dummy = pd.get_dummies(datasets['FuelType'])\n",
        "datasets = datasets.drop(['FuelType'],axis=1)\n",
        "datasets = datasets.drop(['Unnamed: 0'],axis=1)\n",
        "datasets = pd.concat([dummy,datasets],axis=1)\n",
        "print(datasets)"
      ],
      "metadata": {
        "colab": {
          "base_uri": "https://localhost:8080/"
        },
        "id": "7OmBIms3hVmh",
        "outputId": "2683acec-e673-4bc1-f6ff-cade3570fb25"
      },
      "execution_count": null,
      "outputs": [
        {
          "output_type": "stream",
          "name": "stdout",
          "text": [
            "      CNG  Diesel  Petrol  Price   Age       KM     HP  MetColor  Automatic  \\\n",
            "1       0       1       0  13750  23.0  72937.0   90.0       1.0          0   \n",
            "3       0       1       0  14950  26.0  48000.0   90.0       0.0          0   \n",
            "4       0       1       0  13750  30.0  38500.0   90.0       0.0          0   \n",
            "5       0       1       0  12950  32.0  61000.0   90.0       0.0          0   \n",
            "8       0       0       1  21500  27.0  19700.0  192.0       0.0          0   \n",
            "...   ...     ...     ...    ...   ...      ...    ...       ...        ...   \n",
            "1423    0       0       1   7950  80.0  35821.0   86.0       0.0          1   \n",
            "1424    0       0       1   7750  73.0  34717.0   86.0       0.0          0   \n",
            "1429    0       0       1   8950  78.0  24000.0   86.0       1.0          1   \n",
            "1430    0       0       1   8450  80.0  23000.0   86.0       0.0          0   \n",
            "1435    0       0       1   6950  76.0      1.0  110.0       0.0          0   \n",
            "\n",
            "        CC Doors  Weight  \n",
            "1     2000     3    1165  \n",
            "3     2000     3    1165  \n",
            "4     2000     3    1170  \n",
            "5     2000     3    1170  \n",
            "8     1800     3    1185  \n",
            "...    ...   ...     ...  \n",
            "1423  1300     3    1015  \n",
            "1424  1300     3    1015  \n",
            "1429  1300     5    1065  \n",
            "1430  1300     3    1015  \n",
            "1435  1600     5    1114  \n",
            "\n",
            "[1093 rows x 12 columns]\n"
          ]
        }
      ]
    },
    {
      "cell_type": "code",
      "source": [
        "# Performing standardization on data\n",
        "updated_df = datasets\n",
        "\n",
        "for col in updated_df:\n",
        "  updated_df[col] = updated_df[col].fillna(updated_df[col].mean())\n",
        "\n",
        "print(updated_df)"
      ],
      "metadata": {
        "colab": {
          "base_uri": "https://localhost:8080/"
        },
        "id": "F1Uk8JOMh4-S",
        "outputId": "705fa483-d2c0-4b63-ff3d-d4c313cf65c6"
      },
      "execution_count": null,
      "outputs": [
        {
          "output_type": "stream",
          "name": "stdout",
          "text": [
            "      CNG  Diesel  Petrol  Price   Age       KM     HP  MetColor  Automatic  \\\n",
            "1       0       1       0  13750  23.0  72937.0   90.0       1.0          0   \n",
            "3       0       1       0  14950  26.0  48000.0   90.0       0.0          0   \n",
            "4       0       1       0  13750  30.0  38500.0   90.0       0.0          0   \n",
            "5       0       1       0  12950  32.0  61000.0   90.0       0.0          0   \n",
            "8       0       0       1  21500  27.0  19700.0  192.0       0.0          0   \n",
            "...   ...     ...     ...    ...   ...      ...    ...       ...        ...   \n",
            "1423    0       0       1   7950  80.0  35821.0   86.0       0.0          1   \n",
            "1424    0       0       1   7750  73.0  34717.0   86.0       0.0          0   \n",
            "1429    0       0       1   8950  78.0  24000.0   86.0       1.0          1   \n",
            "1430    0       0       1   8450  80.0  23000.0   86.0       0.0          0   \n",
            "1435    0       0       1   6950  76.0      1.0  110.0       0.0          0   \n",
            "\n",
            "        CC  Doors  Weight  \n",
            "1     2000      3    1165  \n",
            "3     2000      3    1165  \n",
            "4     2000      3    1170  \n",
            "5     2000      3    1170  \n",
            "8     1800      3    1185  \n",
            "...    ...    ...     ...  \n",
            "1423  1300      3    1015  \n",
            "1424  1300      3    1015  \n",
            "1429  1300      5    1065  \n",
            "1430  1300      3    1015  \n",
            "1435  1600      5    1114  \n",
            "\n",
            "[1093 rows x 12 columns]\n"
          ]
        }
      ]
    },
    {
      "cell_type": "code",
      "source": [
        "# Finding and removing correlation\n",
        "\n",
        "import seaborn as sns\n",
        "data = updated_df\n",
        "print(data.head())\n",
        "count = 0\n",
        "for val in data['Doors']:\n",
        "  data.at[count, 'Doors'] = int(val)\n",
        "  count+=1\n",
        "\n",
        "corr = data.corr()\n",
        "print(corr.head())\n",
        "\n",
        "sns.heatmap(corr)"
      ],
      "metadata": {
        "colab": {
          "base_uri": "https://localhost:8080/",
          "height": 778
        },
        "id": "djyG0onaisKk",
        "outputId": "7bf3eecc-092c-4709-cae2-3a63969d4d63"
      },
      "execution_count": null,
      "outputs": [
        {
          "output_type": "stream",
          "name": "stdout",
          "text": [
            "   CNG  Diesel  Petrol    Price   Age       KM     HP  MetColor  Automatic  \\\n",
            "1  0.0     1.0     0.0  13750.0  23.0  72937.0   90.0       1.0        0.0   \n",
            "3  0.0     1.0     0.0  14950.0  26.0  48000.0   90.0       0.0        0.0   \n",
            "4  0.0     1.0     0.0  13750.0  30.0  38500.0   90.0       0.0        0.0   \n",
            "5  0.0     1.0     0.0  12950.0  32.0  61000.0   90.0       0.0        0.0   \n",
            "8  0.0     0.0     1.0  21500.0  27.0  19700.0  192.0       0.0        0.0   \n",
            "\n",
            "       CC  Doors  Weight  \n",
            "1  2000.0    3.0  1165.0  \n",
            "3  2000.0    3.0  1165.0  \n",
            "4  2000.0    3.0  1170.0  \n",
            "5  2000.0    3.0  1170.0  \n",
            "8  1800.0    3.0  1185.0  \n",
            "             CNG    Diesel    Petrol     Price       Age        KM        HP  \\\n",
            "CNG     1.000000 -0.036129 -0.290579 -0.051476  0.011334  0.161206  0.057429   \n",
            "Diesel -0.036129  1.000000 -0.945728 -0.018608 -0.049370  0.444327 -0.540526   \n",
            "Petrol -0.290579 -0.945728  1.000000  0.034555  0.043585 -0.477852  0.498866   \n",
            "Price  -0.051476 -0.018608  0.034555  1.000000 -0.877351 -0.600234  0.334644   \n",
            "Age     0.011334 -0.049370  0.043585 -0.877351  1.000000  0.523659 -0.162508   \n",
            "\n",
            "        MetColor  Automatic        CC     Doors    Weight  \n",
            "CNG    -0.001301  -0.024714  0.017984 -0.003645  0.057679  \n",
            "Diesel -0.033884  -0.080434  0.761336 -0.046312  0.538444  \n",
            "Petrol  0.032866   0.085049 -0.734809  0.045528 -0.534303  \n",
            "Price   0.115261   0.034977  0.098367  0.119413  0.531005  \n",
            "Age    -0.103677   0.034780 -0.081162 -0.127728 -0.439269  \n"
          ]
        },
        {
          "output_type": "execute_result",
          "data": {
            "text/plain": [
              "<matplotlib.axes._subplots.AxesSubplot at 0x7f70b28709d0>"
            ]
          },
          "metadata": {},
          "execution_count": 15
        },
        {
          "output_type": "display_data",
          "data": {
            "text/plain": [
              "<Figure size 432x288 with 2 Axes>"
            ],
            "image/png": "[encoded data removed]"
          },
          "metadata": {
            "needs_background": "light"
          }
        }
      ]
    },
    {
      "cell_type": "code",
      "source": [
        "columns = np.full((corr.shape[0],), True, dtype=bool)\n",
        "\n",
        "for i in range(corr.shape[0]):\n",
        "  for j in range(i+1, corr.shape[0]):\n",
        "    if corr.iloc[i,j] >= 0.9:\n",
        "      if columns[j]:\n",
        "        columns[j] = Falsem\n",
        "\n",
        "selected_columns = data.columns[columns]\n",
        "data = data[selected_columns]"
      ],
      "metadata": {
        "id": "rvQCxjiWiuZ_"
      },
      "execution_count": null,
      "outputs": []
    },
    {
      "cell_type": "markdown",
      "source": [
        "Write the correlation matrix generated for the following dataset. https://www.kaggle.com/code/asimislam/titanic-disaster-fe-eda-corr-ml/data?select=train.csv."
      ],
      "metadata": {
        "id": "vUksRG8xlS7K"
      }
    },
    {
      "cell_type": "code",
      "source": [
        "\n",
        "import pandas as pd\n",
        " \n",
        " \n",
        "# create dataframe from file\n",
        "dataframe = pd.read_csv(\"/content/drive/MyDrive/SEM-VI/ML/train.csv\")\n",
        " \n",
        "# show dataframe\n",
        "print(dataframe)\n",
        " \n",
        "# use corr() method on dataframe to\n",
        "# make correlation matrix\n",
        "matrix = dataframe.corr()\n",
        " \n",
        "# print correlation matrix\n",
        "print(\"Correlation Matrix is : \")\n",
        "print(matrix)"
      ],
      "metadata": {
        "colab": {
          "base_uri": "https://localhost:8080/"
        },
        "id": "naX7Xy2llZJK",
        "outputId": "0dc7d857-d513-4d53-8642-ac2fed70cf5a"
      },
      "execution_count": null,
      "outputs": [
        {
          "output_type": "stream",
          "name": "stdout",
          "text": [
            "     PassengerId  Survived  Pclass  \\\n",
            "0              1         0       3   \n",
            "1              2         1       1   \n",
            "2              3         1       3   \n",
            "3              4         1       1   \n",
            "4              5         0       3   \n",
            "..           ...       ...     ...   \n",
            "886          887         0       2   \n",
            "887          888         1       1   \n",
            "888          889         0       3   \n",
            "889          890         1       1   \n",
            "890          891         0       3   \n",
            "\n",
            "                                                  Name     Sex   Age  SibSp  \\\n",
            "0                              Braund, Mr. Owen Harris    male  22.0      1   \n",
            "1    Cumings, Mrs. John Bradley (Florence Briggs Th...  female  38.0      1   \n",
            "2                               Heikkinen, Miss. Laina  female  26.0      0   \n",
            "3         Futrelle, Mrs. Jacques Heath (Lily May Peel)  female  35.0      1   \n",
            "4                             Allen, Mr. William Henry    male  35.0      0   \n",
            "..                                                 ...     ...   ...    ...   \n",
            "886                              Montvila, Rev. Juozas    male  27.0      0   \n",
            "887                       Graham, Miss. Margaret Edith  female  19.0      0   \n",
            "888           Johnston, Miss. Catherine Helen \"Carrie\"  female   NaN      1   \n",
            "889                              Behr, Mr. Karl Howell    male  26.0      0   \n",
            "890                                Dooley, Mr. Patrick    male  32.0      0   \n",
            "\n",
            "     Parch            Ticket     Fare Cabin Embarked  \n",
            "0        0         A/5 21171   7.2500   NaN        S  \n",
            "1        0          PC 17599  71.2833   C85        C  \n",
            "2        0  STON/O2. 3101282   7.9250   NaN        S  \n",
            "3        0            113803  53.1000  C123        S  \n",
            "4        0            373450   8.0500   NaN        S  \n",
            "..     ...               ...      ...   ...      ...  \n",
            "886      0            211536  13.0000   NaN        S  \n",
            "887      0            112053  30.0000   B42        S  \n",
            "888      2        W./C. 6607  23.4500   NaN        S  \n",
            "889      0            111369  30.0000  C148        C  \n",
            "890      0            370376   7.7500   NaN        Q  \n",
            "\n",
            "[891 rows x 12 columns]\n",
            "Correlation Matrix is : \n",
            "             PassengerId  Survived    Pclass       Age     SibSp     Parch  \\\n",
            "PassengerId     1.000000 -0.005007 -0.035144  0.036847 -0.057527 -0.001652   \n",
            "Survived       -0.005007  1.000000 -0.338481 -0.077221 -0.035322  0.081629   \n",
            "Pclass         -0.035144 -0.338481  1.000000 -0.369226  0.083081  0.018443   \n",
            "Age             0.036847 -0.077221 -0.369226  1.000000 -0.308247 -0.189119   \n",
            "SibSp          -0.057527 -0.035322  0.083081 -0.308247  1.000000  0.414838   \n",
            "Parch          -0.001652  0.081629  0.018443 -0.189119  0.414838  1.000000   \n",
            "Fare            0.012658  0.257307 -0.549500  0.096067  0.159651  0.216225   \n",
            "\n",
            "                 Fare  \n",
            "PassengerId  0.012658  \n",
            "Survived     0.257307  \n",
            "Pclass      -0.549500  \n",
            "Age          0.096067  \n",
            "SibSp        0.159651  \n",
            "Parch        0.216225  \n",
            "Fare         1.000000  \n"
          ]
        }
      ]
    }
  ]
}