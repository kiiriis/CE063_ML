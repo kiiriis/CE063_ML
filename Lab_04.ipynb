{
  "nbformat": 4,
  "nbformat_minor": 0,
  "metadata": {
    "colab": {
      "provenance": [],
      "authorship_tag": "ABX9TyMMy8Cfja7Dhc3r1688ZB3g",
      "include_colab_link": true
    },
    "kernelspec": {
      "name": "python3",
      "display_name": "Python 3"
    },
    "language_info": {
      "name": "python"
    }
  },
  "cells": [
    {
      "cell_type": "markdown",
      "metadata": {
        "id": "view-in-github",
        "colab_type": "text"
      },
      "source": [
        "<a href=\"https://colab.research.google.com/github/kiiriis/CE063_ML/blob/main/Lab_04.ipynb\" target=\"_parent\"><img src=\"https://colab.research.google.com/assets/colab-badge.svg\" alt=\"Open In Colab\"/></a>"
      ]
    },
    {
      "cell_type": "markdown",
      "source": [
        "# Lab 4_0"
      ],
      "metadata": {
        "id": "l-MmKKnIs4MV"
      }
    },
    {
      "cell_type": "code",
      "source": [
        "# Import Numpy & PyTorch\n",
        "import numpy as np\n",
        "import torch\n",
        "\n",
        "# Input (temp, rainfall, humidity)\n",
        "input = np.array([[73, 67, 43],\n",
        "[91, 88, 64],\n",
        "[87, 134, 58],\n",
        "[102, 43, 37],\n",
        "[69, 96, 70]], dtype='float32')\n",
        "\n",
        "target = np.array([[56],\n",
        "[81],\n",
        "[119],\n",
        "[22],\n",
        "[103]], dtype='float32')\n",
        "\n",
        "# generate model\n",
        "\n",
        "initial_target=np.array([[100],\n",
        "[100],\n",
        "[80],\n",
        "[90],\n",
        "[100]], dtype='float32') # taking random values\n",
        "\n",
        "weight = np.array([[10],\n",
        "[20],\n",
        "[15],\n",
        "[11],\n",
        "[30]], dtype='float32')\n",
        "\n",
        "bias = np.array([[7],[7],[7],[7],[7]],dtype='float32')\n",
        "\n",
        "# Generate predictions\n",
        "\n",
        "prediction = (initial_target*weight) + bias\n",
        "\n",
        "  # print(prediction)\n",
        "\n",
        "# MSE loss\n",
        "  # from sklearn.metrics import mean_squared_error\n",
        "  # x=mean_squared_error(target,prediction)\n",
        "  # print(x)\n",
        "\n",
        "# import numpy as np\n",
        "# MSE = np.square(np.subtract(target,prediction)).mean()\n",
        "# print(MSE)"
      ],
      "metadata": {
        "id": "X0S4UZmcECO3"
      },
      "execution_count": null,
      "outputs": []
    },
    {
      "cell_type": "code",
      "source": [
        "# Compute Gradients\n",
        "import torch\n",
        "from torch.utils.data import TensorDataset,DataLoader\n",
        "\n",
        "\n",
        "inputs = torch.from_numpy(input)\n",
        "targets = torch.from_numpy(target)\n",
        "\n",
        "  # print(inputs)\n",
        "  # print(targets)\n",
        "dataset = TensorDataset(inputs,targets)\n",
        "  # print(dataset[:5])\n",
        "train_loader = DataLoader(dataset, batch_size=4, shuffle=True)\n",
        "\n",
        "# Adjust weights and biases using gradient descent\n",
        "weights= torch.randn(1,3, requires_grad=True)\n",
        "biass = torch.randn(1, requires_grad=True)\n",
        "\n",
        "print(weights)\n",
        "print(biass)\n",
        "\n",
        "def model(X):\n",
        "  return X @ weights.t() + biass  # '@' - for matrix multiplication\n",
        "\n",
        "for x,y in train_loader:\n",
        "    preds = model(x)\n",
        "    print(\"Prediction is :\\n\",preds)\n",
        "    print(\"\\nActual targets is :\\n\",y)\n",
        "    break\n",
        "\n",
        "# Calculate the loss\n",
        "def mse_loss(predictions, targets):\n",
        "  difference = predictions - targets\n",
        "  return torch.sum(difference * difference)/ difference.numel() # numel() method returns the number of elements in the tensor.\n",
        "\n",
        "for x,y in train_loader:\n",
        "  preds=model(x)\n",
        "  print(\"Prediction is :\\n\", preds)\n",
        "  print(\"\\nActual targets is :\\n\",y)\n",
        "  print(\"\\nLoss is: \",mse_loss(preds,y))\n",
        "  break\n",
        "\n",
        "epochs = 1000\n",
        "for i in range(epochs):\n",
        "    # Iterate through training dataloader\n",
        "    for x,y in train_loader:\n",
        "        # Generate Prediction\n",
        "        preds = model(x)\n",
        "\n",
        "        # Get the loss and perform backpropagation\n",
        "        loss = mse_loss(preds, y)\n",
        "        loss.backward()\n",
        "\n",
        "        # Let's update the weights\n",
        "        with torch.no_grad():\n",
        "            weights -= weights.grad *1e-5\n",
        "            biass -= biass.grad * 1e-5\n",
        "            # Set the gradients to zero\n",
        "            weights.grad.zero_()\n",
        "            biass.grad.zero_()\n",
        "    #print(f\"Epoch {i}/{epochs}: Loss: {loss}\")\n",
        "\n",
        "for x,y in train_loader:\n",
        "  preds= model(x)\n",
        "  print(\"\\nFinal Prediction is :\\n\",preds)\n",
        "  print(\"\\nActual targets are :\\n\",y)\n",
        "  break"
      ],
      "metadata": {
        "colab": {
          "base_uri": "https://localhost:8080/"
        },
        "id": "bvYLMeTCElg6",
        "outputId": "7285d907-bfa2-4772-e7e4-852467f325d8"
      },
      "execution_count": null,
      "outputs": [
        {
          "output_type": "stream",
          "name": "stdout",
          "text": [
            "tensor([[-0.1999,  0.1494, -0.7254]], requires_grad=True)\n",
            "tensor([-0.7655], requires_grad=True)\n",
            "Prediction is :\n",
            " tensor([[-52.2376],\n",
            "        [-50.9978],\n",
            "        [-40.2140],\n",
            "        [-36.5425]], grad_fn=<AddBackward0>)\n",
            "\n",
            "Actual targets is :\n",
            " tensor([[ 81.],\n",
            "        [103.],\n",
            "        [119.],\n",
            "        [ 56.]])\n",
            "Prediction is :\n",
            " tensor([[-41.5715],\n",
            "        [-36.5425],\n",
            "        [-40.2140],\n",
            "        [-52.2376]], grad_fn=<AddBackward0>)\n",
            "\n",
            "Actual targets is :\n",
            " tensor([[ 22.],\n",
            "        [ 56.],\n",
            "        [119.],\n",
            "        [ 81.]])\n",
            "\n",
            "Loss is:  tensor(13926.7061, grad_fn=<DivBackward0>)\n",
            "\n",
            "Final Prediction is :\n",
            " tensor([[118.5108],\n",
            "        [ 20.9682],\n",
            "        [101.2231],\n",
            "        [ 56.7800]], grad_fn=<AddBackward0>)\n",
            "\n",
            "Actual targets are :\n",
            " tensor([[119.],\n",
            "        [ 22.],\n",
            "        [103.],\n",
            "        [ 56.]])\n"
          ]
        }
      ]
    },
    {
      "cell_type": "code",
      "source": [
        "print(weights)\n",
        "print(biass)"
      ],
      "metadata": {
        "colab": {
          "base_uri": "https://localhost:8080/"
        },
        "id": "pph9TR-pEmsw",
        "outputId": "abe98f0a-657c-4982-bebc-23a9c8f889d0"
      },
      "execution_count": null,
      "outputs": [
        {
          "output_type": "stream",
          "name": "stdout",
          "text": [
            "tensor([[-0.3903,  0.8523,  0.6728]], requires_grad=True)\n",
            "tensor([-0.7583], requires_grad=True)\n"
          ]
        }
      ]
    },
    {
      "cell_type": "code",
      "source": [
        "# 5. Use the model to predict crop yield for apples if temperature is 70, Rain is 34 and Humidity is 45.\n",
        "from sklearn.linear_model import LinearRegression\n",
        "\n",
        "model = LinearRegression()\n",
        "\n",
        "model.fit(inputs, targets)\n",
        "\n",
        "# for x,y in dataset:\n",
        "#   print(x,y)\n",
        "\n",
        "test_input = np.array([[70, 34, 45]])\n",
        "\n",
        "y_pred = model.predict(test_input)\n",
        "print(\"Prediction: \", y_pred)\n"
      ],
      "metadata": {
        "colab": {
          "base_uri": "https://localhost:8080/"
        },
        "id": "Mzgbm4otFAIu",
        "outputId": "417c2f4d-b2ee-4c7e-9fdd-e69998524665"
      },
      "execution_count": null,
      "outputs": [
        {
          "output_type": "stream",
          "name": "stdout",
          "text": [
            "Prediction:  [[31.47395247]]\n"
          ]
        }
      ]
    },
    {
      "cell_type": "code",
      "source": [
        "# 1. Estimate the value of model parameters(weights and bias) and MSE Loss after training for 1000 epochs.\n",
        "import numpy as np\n",
        "MSE = mse_loss(preds,y)\n",
        "print(\"MSE: \",MSE)\n",
        "\n",
        "print(\"Weights: \",weights)\n",
        "print(\"Bias: \",biass)"
      ],
      "metadata": {
        "colab": {
          "base_uri": "https://localhost:8080/"
        },
        "id": "hLYWv18zFBR4",
        "outputId": "0bfb80a6-f09a-4b19-91a5-3c71a6545d9f"
      },
      "execution_count": null,
      "outputs": [
        {
          "output_type": "stream",
          "name": "stdout",
          "text": [
            "MSE:  tensor(1.2674, grad_fn=<DivBackward0>)\n",
            "Weights:  tensor([[-0.3903,  0.8523,  0.6728]], requires_grad=True)\n",
            "Bias:  tensor([-0.7583], requires_grad=True)\n"
          ]
        }
      ]
    },
    {
      "cell_type": "code",
      "source": [
        "# 2. Take the learning rate value as 0.1 and train the model. Write in brief the impact of this learning rate on the model.\n",
        "# Compute Gradients\n",
        "# Import Numpy & PyTorch\n",
        "import numpy as np\n",
        "import torch\n",
        "\n",
        "# Input (temp, rainfall, humidity)\n",
        "input = np.array([[73, 67, 43],\n",
        "[91, 88, 64],\n",
        "[87, 134, 58],\n",
        "[102, 43, 37],\n",
        "[69, 96, 70]], dtype='float32')\n",
        "\n",
        "target = np.array([[56],\n",
        "[81],\n",
        "[119],\n",
        "[22],\n",
        "[103]], dtype='float32')\n",
        "\n",
        "# generate model\n",
        "\n",
        "initial_target=np.array([[100],\n",
        "[100],\n",
        "[80],\n",
        "[90],\n",
        "[100]], dtype='float32') # taking random values\n",
        "\n",
        "weight = np.array([[10],\n",
        "[20],\n",
        "[15],\n",
        "[11],\n",
        "[30]], dtype='float32')\n",
        "\n",
        "bias = np.array([[7],[7],[7],[7],[7]],dtype='float32')\n",
        "\n",
        "# Generate predictions\n",
        "\n",
        "prediction = (initial_target*weight) + bias\n",
        "\n",
        "  # print(prediction)\n",
        "\n",
        "# MSE loss\n",
        "  # from sklearn.metrics import mean_squared_error\n",
        "  # x=mean_squared_error(target,prediction)\n",
        "  # print(x)\n",
        "\n",
        "# import numpy as np\n",
        "# MSE = np.square(np.subtract(target,prediction)).mean()\n",
        "# print(MSE)\n",
        "\n",
        "import torch\n",
        "from torch.utils.data import TensorDataset,DataLoader\n",
        "\n",
        "\n",
        "inputs = torch.from_numpy(input)\n",
        "targets = torch.from_numpy(target)\n",
        "\n",
        "  # print(inputs)\n",
        "  # print(targets)\n",
        "dataset = TensorDataset(inputs,targets)\n",
        "  # print(dataset[:5])\n",
        "train_loader = DataLoader(dataset, batch_size=4, shuffle=True)\n",
        "\n",
        "# Adjust weights and biases using gradient descent\n",
        "weights= torch.randn(1,3, requires_grad=True)\n",
        "biass = torch.randn(1, requires_grad=True)\n",
        "\n",
        "print(weights)\n",
        "print(biass)\n",
        "\n",
        "def model(X):\n",
        "  return X @ weights.t() + biass  # '@' - for matrix multiplication\n",
        "\n",
        "for x,y in train_loader:\n",
        "    preds = model(x)\n",
        "    print(\"Prediction is :\\n\",preds)\n",
        "    print(\"\\nActual targets is :\\n\",y)\n",
        "    break\n",
        "\n",
        "# Calculate the loss\n",
        "def mse_loss(predictions, targets):\n",
        "  difference = predictions - targets\n",
        "  return torch.sum(difference * difference)/ difference.numel() # numel() method returns the number of elements in the tensor.\n",
        "\n",
        "for x,y in train_loader:\n",
        "  preds=model(x)\n",
        "  print(\"Prediction is :\\n\", preds)\n",
        "  print(\"\\nActual targets is :\\n\",y)\n",
        "  print(\"\\nLoss is: \",mse_loss(preds,y))\n",
        "  break\n",
        "\n",
        "epochs = 1000\n",
        "for i in range(epochs):\n",
        "    # Iterate through training dataloader\n",
        "    for x,y in train_loader:\n",
        "        # Generate Prediction\n",
        "        preds = model(x)\n",
        "\n",
        "        # Get the loss and perform backpropagation\n",
        "        loss = mse_loss(preds, y)\n",
        "        loss.backward()\n",
        "\n",
        "        # Let's update the weights\n",
        "        with torch.no_grad():\n",
        "            weights -= weights.grad *0.1\n",
        "            biass -= biass.grad * 0.1\n",
        "            # Set the gradients to zero\n",
        "            weights.grad.zero_()\n",
        "            biass.grad.zero_()\n",
        "    #print(f\"Epoch {i}/{epochs}: Loss: {loss}\")\n",
        "\n",
        "for x,y in train_loader:\n",
        "  preds= model(x)\n",
        "  print(\"\\nFinal Prediction is :\\n\",preds)\n",
        "  print(\"\\nActual targets are :\\n\",y)\n",
        "  break"
      ],
      "metadata": {
        "colab": {
          "base_uri": "https://localhost:8080/"
        },
        "id": "kwx14IIJFCgq",
        "outputId": "c87231b0-0709-4365-95b6-71f7be1477c3"
      },
      "execution_count": null,
      "outputs": [
        {
          "output_type": "stream",
          "name": "stdout",
          "text": [
            "tensor([[-0.1537,  0.0148,  3.0292]], requires_grad=True)\n",
            "tensor([0.4066], requires_grad=True)\n",
            "Prediction is :\n",
            " tensor([[164.7096],\n",
            "        [120.4337],\n",
            "        [203.2660],\n",
            "        [181.5914]], grad_fn=<AddBackward0>)\n",
            "\n",
            "Actual targets is :\n",
            " tensor([[119.],\n",
            "        [ 56.],\n",
            "        [103.],\n",
            "        [ 81.]])\n",
            "Prediction is :\n",
            " tensor([[164.7096],\n",
            "        [203.2660],\n",
            "        [ 97.4471],\n",
            "        [181.5914]], grad_fn=<AddBackward0>)\n",
            "\n",
            "Actual targets is :\n",
            " tensor([[119.],\n",
            "        [103.],\n",
            "        [ 22.],\n",
            "        [ 81.]])\n",
            "\n",
            "Loss is:  tensor(6988.3843, grad_fn=<DivBackward0>)\n",
            "\n",
            "Final Prediction is :\n",
            " tensor([[nan],\n",
            "        [nan],\n",
            "        [nan],\n",
            "        [nan]], grad_fn=<AddBackward0>)\n",
            "\n",
            "Actual targets are :\n",
            " tensor([[119.],\n",
            "        [ 81.],\n",
            "        [ 22.],\n",
            "        [103.]])\n"
          ]
        }
      ]
    },
    {
      "cell_type": "code",
      "source": [
        "import numpy as np\n",
        "MSE = mse_loss(preds,y)\n",
        "print(\"MSE: \",MSE)\n",
        "\n",
        "print(\"Weights: \",weights)\n",
        "print(\"Bias: \",biass)"
      ],
      "metadata": {
        "colab": {
          "base_uri": "https://localhost:8080/",
          "height": 380
        },
        "id": "Uiygs9UlFD82",
        "outputId": "941ac1e6-0829-46e5-cf01-851303b58d2d"
      },
      "execution_count": null,
      "outputs": [
        {
          "output_type": "error",
          "ename": "RuntimeError",
          "evalue": "ignored",
          "traceback": [
            "\u001b[0;31m---------------------------------------------------------------------------\u001b[0m",
            "\u001b[0;31mRuntimeError\u001b[0m                              Traceback (most recent call last)",
            "\u001b[0;32m<ipython-input-34-b8636ea0eda4>\u001b[0m in \u001b[0;36m<module>\u001b[0;34m\u001b[0m\n\u001b[1;32m      1\u001b[0m \u001b[0;32mimport\u001b[0m \u001b[0mnumpy\u001b[0m \u001b[0;32mas\u001b[0m \u001b[0mnp\u001b[0m\u001b[0;34m\u001b[0m\u001b[0;34m\u001b[0m\u001b[0m\n\u001b[0;32m----> 2\u001b[0;31m \u001b[0mMSE\u001b[0m \u001b[0;34m=\u001b[0m \u001b[0mmse_loss\u001b[0m\u001b[0;34m(\u001b[0m\u001b[0mpreds\u001b[0m\u001b[0;34m,\u001b[0m\u001b[0my\u001b[0m\u001b[0;34m)\u001b[0m\u001b[0;34m\u001b[0m\u001b[0;34m\u001b[0m\u001b[0m\n\u001b[0m\u001b[1;32m      3\u001b[0m \u001b[0mprint\u001b[0m\u001b[0;34m(\u001b[0m\u001b[0;34m\"MSE: \"\u001b[0m\u001b[0;34m,\u001b[0m\u001b[0mMSE\u001b[0m\u001b[0;34m)\u001b[0m\u001b[0;34m\u001b[0m\u001b[0;34m\u001b[0m\u001b[0m\n\u001b[1;32m      4\u001b[0m \u001b[0;34m\u001b[0m\u001b[0m\n\u001b[1;32m      5\u001b[0m \u001b[0mprint\u001b[0m\u001b[0;34m(\u001b[0m\u001b[0;34m\"Weights: \"\u001b[0m\u001b[0;34m,\u001b[0m\u001b[0mweights\u001b[0m\u001b[0;34m)\u001b[0m\u001b[0;34m\u001b[0m\u001b[0;34m\u001b[0m\u001b[0m\n",
            "\u001b[0;32m<ipython-input-8-5e99b0430f90>\u001b[0m in \u001b[0;36mmse_loss\u001b[0;34m(predictions, targets)\u001b[0m\n\u001b[1;32m     83\u001b[0m \u001b[0;31m# Calculate the loss\u001b[0m\u001b[0;34m\u001b[0m\u001b[0;34m\u001b[0m\u001b[0;34m\u001b[0m\u001b[0m\n\u001b[1;32m     84\u001b[0m \u001b[0;32mdef\u001b[0m \u001b[0mmse_loss\u001b[0m\u001b[0;34m(\u001b[0m\u001b[0mpredictions\u001b[0m\u001b[0;34m,\u001b[0m \u001b[0mtargets\u001b[0m\u001b[0;34m)\u001b[0m\u001b[0;34m:\u001b[0m\u001b[0;34m\u001b[0m\u001b[0;34m\u001b[0m\u001b[0m\n\u001b[0;32m---> 85\u001b[0;31m   \u001b[0mdifference\u001b[0m \u001b[0;34m=\u001b[0m \u001b[0mpredictions\u001b[0m \u001b[0;34m-\u001b[0m \u001b[0mtargets\u001b[0m\u001b[0;34m\u001b[0m\u001b[0;34m\u001b[0m\u001b[0m\n\u001b[0m\u001b[1;32m     86\u001b[0m   \u001b[0;32mreturn\u001b[0m \u001b[0mtorch\u001b[0m\u001b[0;34m.\u001b[0m\u001b[0msum\u001b[0m\u001b[0;34m(\u001b[0m\u001b[0mdifference\u001b[0m \u001b[0;34m*\u001b[0m \u001b[0mdifference\u001b[0m\u001b[0;34m)\u001b[0m\u001b[0;34m/\u001b[0m \u001b[0mdifference\u001b[0m\u001b[0;34m.\u001b[0m\u001b[0mnumel\u001b[0m\u001b[0;34m(\u001b[0m\u001b[0;34m)\u001b[0m \u001b[0;31m# numel() method returns the number of elements in the tensor.\u001b[0m\u001b[0;34m\u001b[0m\u001b[0;34m\u001b[0m\u001b[0m\n\u001b[1;32m     87\u001b[0m \u001b[0;34m\u001b[0m\u001b[0m\n",
            "\u001b[0;32m/usr/local/lib/python3.8/dist-packages/torch/_tensor.py\u001b[0m in \u001b[0;36m__array__\u001b[0;34m(self, dtype)\u001b[0m\n\u001b[1;32m    954\u001b[0m             \u001b[0;32mreturn\u001b[0m \u001b[0mhandle_torch_function\u001b[0m\u001b[0;34m(\u001b[0m\u001b[0mTensor\u001b[0m\u001b[0;34m.\u001b[0m\u001b[0m__array__\u001b[0m\u001b[0;34m,\u001b[0m \u001b[0;34m(\u001b[0m\u001b[0mself\u001b[0m\u001b[0;34m,\u001b[0m\u001b[0;34m)\u001b[0m\u001b[0;34m,\u001b[0m \u001b[0mself\u001b[0m\u001b[0;34m,\u001b[0m \u001b[0mdtype\u001b[0m\u001b[0;34m=\u001b[0m\u001b[0mdtype\u001b[0m\u001b[0;34m)\u001b[0m\u001b[0;34m\u001b[0m\u001b[0;34m\u001b[0m\u001b[0m\n\u001b[1;32m    955\u001b[0m         \u001b[0;32mif\u001b[0m \u001b[0mdtype\u001b[0m \u001b[0;32mis\u001b[0m \u001b[0;32mNone\u001b[0m\u001b[0;34m:\u001b[0m\u001b[0;34m\u001b[0m\u001b[0;34m\u001b[0m\u001b[0m\n\u001b[0;32m--> 956\u001b[0;31m             \u001b[0;32mreturn\u001b[0m \u001b[0mself\u001b[0m\u001b[0;34m.\u001b[0m\u001b[0mnumpy\u001b[0m\u001b[0;34m(\u001b[0m\u001b[0;34m)\u001b[0m\u001b[0;34m\u001b[0m\u001b[0;34m\u001b[0m\u001b[0m\n\u001b[0m\u001b[1;32m    957\u001b[0m         \u001b[0;32melse\u001b[0m\u001b[0;34m:\u001b[0m\u001b[0;34m\u001b[0m\u001b[0;34m\u001b[0m\u001b[0m\n\u001b[1;32m    958\u001b[0m             \u001b[0;32mreturn\u001b[0m \u001b[0mself\u001b[0m\u001b[0;34m.\u001b[0m\u001b[0mnumpy\u001b[0m\u001b[0;34m(\u001b[0m\u001b[0;34m)\u001b[0m\u001b[0;34m.\u001b[0m\u001b[0mastype\u001b[0m\u001b[0;34m(\u001b[0m\u001b[0mdtype\u001b[0m\u001b[0;34m,\u001b[0m \u001b[0mcopy\u001b[0m\u001b[0;34m=\u001b[0m\u001b[0;32mFalse\u001b[0m\u001b[0;34m)\u001b[0m\u001b[0;34m\u001b[0m\u001b[0;34m\u001b[0m\u001b[0m\n",
            "\u001b[0;31mRuntimeError\u001b[0m: Can't call numpy() on Tensor that requires grad. Use tensor.detach().numpy() instead."
          ]
        }
      ]
    },
    {
      "cell_type": "code",
      "source": [
        "# 3. Take the learning rate value as 0.0000001 and train the model. Write in brief the impact of this learning rate on the model.\n",
        "# Compute Gradients\n",
        "# Import Numpy & PyTorch\n",
        "import numpy as np\n",
        "import torch\n",
        "\n",
        "# Input (temp, rainfall, humidity)\n",
        "input = np.array([[73, 67, 43],\n",
        "[91, 88, 64],\n",
        "[87, 134, 58],\n",
        "[102, 43, 37],\n",
        "[69, 96, 70]], dtype='float32')\n",
        "\n",
        "target = np.array([[56],\n",
        "[81],\n",
        "[119],\n",
        "[22],\n",
        "[103]], dtype='float32')\n",
        "\n",
        "# generate model\n",
        "\n",
        "initial_target=np.array([[100],\n",
        "[100],\n",
        "[80],\n",
        "[90],\n",
        "[100]], dtype='float32') # taking random values\n",
        "\n",
        "weight = np.array([[10],\n",
        "[20],\n",
        "[15],\n",
        "[11],\n",
        "[30]], dtype='float32')\n",
        "\n",
        "bias = np.array([[7],[7],[7],[7],[7]],dtype='float32')\n",
        "\n",
        "# Generate predictions\n",
        "\n",
        "prediction = (initial_target*weight) + bias\n",
        "loss_arr=[];\n",
        "  # print(prediction)\n",
        "\n",
        "# MSE loss\n",
        "  # from sklearn.metrics import mean_squared_error\n",
        "  # x=mean_squared_error(target,prediction)\n",
        "  # print(x)\n",
        "\n",
        "# import numpy as np\n",
        "# MSE = np.square(np.subtract(target,prediction)).mean()\n",
        "# print(MSE)\n",
        "\n",
        "import torch\n",
        "from torch.utils.data import TensorDataset,DataLoader\n",
        "\n",
        "\n",
        "inputs = torch.from_numpy(input)\n",
        "targets = torch.from_numpy(target)\n",
        "\n",
        "from sklearn.model_selection import train_test_split\n",
        "X_train, X_val, y_train, y_val = train_test_split(inputs, targets, random_state=97)\n",
        "\n",
        "  # print(inputs)\n",
        "  # print(targets)\n",
        "dataset = TensorDataset(inputs,targets)\n",
        "  # print(dataset[:5])\n",
        "train_loader = DataLoader(dataset, batch_size=4, shuffle=True)\n",
        "\n",
        "# Adjust weights and biases using gradient descent\n",
        "weights= torch.randn(1,3, requires_grad=True)\n",
        "biass = torch.randn(1, requires_grad=True)\n",
        "\n",
        "print(weights)\n",
        "print(biass)\n",
        "\n",
        "def model(X):\n",
        "  return X @ weights.t() + biass  # '@' - for matrix multiplication\n",
        "\n",
        "for x,y in train_loader:\n",
        "    preds = model(x)\n",
        "    print(\"Prediction is :\\n\",preds)\n",
        "    print(\"\\nActual targets is :\\n\",y)\n",
        "    break\n",
        "\n",
        "# Calculate the loss\n",
        "def mse_loss(predictions, targets):\n",
        "  difference = predictions - targets\n",
        "  return torch.sum(difference * difference)/ difference.numel() # numel() method returns the number of elements in the tensor.\n",
        "\n",
        "for x,y in train_loader:\n",
        "  preds=model(x)\n",
        "  print(\"Prediction is :\\n\", preds)\n",
        "  print(\"\\nActual targets is :\\n\",y)\n",
        "  print(\"\\nLoss is: \",mse_loss(preds,y))\n",
        "  break\n",
        "\n",
        "\n",
        "\n",
        "epochs = 1000\n",
        "for i in range(epochs):\n",
        "    # Iterate through training dataloader\n",
        "    for x,y in train_loader:\n",
        "        # Generate Prediction\n",
        "        preds = model(x)\n",
        "\n",
        "        # Get the loss and perform backpropagation\n",
        "        \n",
        "        loss = mse_loss(preds, y)\n",
        "        loss_arr+=loss\n",
        "        # np.append(loss_arr,loss,axis=0)\n",
        "        loss.backward()\n",
        "\n",
        "        # Let's update the weights\n",
        "        with torch.no_grad():\n",
        "            weights -= weights.grad *1e-7\n",
        "            biass -= biass.grad * 1e-7\n",
        "            # Set the gradients to zero\n",
        "            weights.grad.zero_()\n",
        "            biass.grad.zero_()\n",
        "    #print(f\"Epoch {i}/{epochs}: Loss: {loss}\")\n",
        "\n",
        "for x,y in train_loader:\n",
        "  preds= model(x)\n",
        "  print(\"\\nFinal Prediction is :\\n\",preds)\n",
        "  print(\"\\nActual targets are :\\n\",y)\n",
        "  break"
      ],
      "metadata": {
        "colab": {
          "base_uri": "https://localhost:8080/",
          "height": 807
        },
        "id": "UzXslT3JFJRD",
        "outputId": "b7d9b980-27c4-4271-dddb-1ceb41b8ca99"
      },
      "execution_count": null,
      "outputs": [
        {
          "output_type": "stream",
          "name": "stdout",
          "text": [
            "tensor([[-1.8869,  2.1758,  0.7298]], requires_grad=True)\n",
            "tensor([-0.4235], requires_grad=True)\n",
            "Prediction is :\n",
            " tensor([[169.3093],\n",
            "        [-72.3196],\n",
            "        [ 38.9979],\n",
            "        [129.3491]], grad_fn=<AddBackward0>)\n",
            "\n",
            "Actual targets is :\n",
            " tensor([[119.],\n",
            "        [ 22.],\n",
            "        [ 56.],\n",
            "        [103.]])\n",
            "Prediction is :\n",
            " tensor([[ 38.9979],\n",
            "        [-72.3196],\n",
            "        [169.3093],\n",
            "        [ 66.0527]], grad_fn=<AddBackward0>)\n",
            "\n",
            "Actual targets is :\n",
            " tensor([[ 56.],\n",
            "        [ 22.],\n",
            "        [119.],\n",
            "        [ 81.]])\n",
            "\n",
            "Loss is:  tensor(2984.9272, grad_fn=<DivBackward0>)\n"
          ]
        },
        {
          "output_type": "error",
          "ename": "TypeError",
          "evalue": "ignored",
          "traceback": [
            "\u001b[0;31m---------------------------------------------------------------------------\u001b[0m",
            "\u001b[0;31mTypeError\u001b[0m                                 Traceback (most recent call last)",
            "\u001b[0;32m<ipython-input-8-5e99b0430f90>\u001b[0m in \u001b[0;36m<module>\u001b[0;34m\u001b[0m\n\u001b[1;32m    105\u001b[0m \u001b[0;34m\u001b[0m\u001b[0m\n\u001b[1;32m    106\u001b[0m         \u001b[0mloss\u001b[0m \u001b[0;34m=\u001b[0m \u001b[0mmse_loss\u001b[0m\u001b[0;34m(\u001b[0m\u001b[0mpreds\u001b[0m\u001b[0;34m,\u001b[0m \u001b[0my\u001b[0m\u001b[0;34m)\u001b[0m\u001b[0;34m\u001b[0m\u001b[0;34m\u001b[0m\u001b[0m\n\u001b[0;32m--> 107\u001b[0;31m         \u001b[0mloss_arr\u001b[0m\u001b[0;34m+=\u001b[0m\u001b[0mloss\u001b[0m\u001b[0;34m\u001b[0m\u001b[0;34m\u001b[0m\u001b[0m\n\u001b[0m\u001b[1;32m    108\u001b[0m         \u001b[0;31m# np.append(loss_arr,loss,axis=0)\u001b[0m\u001b[0;34m\u001b[0m\u001b[0;34m\u001b[0m\u001b[0;34m\u001b[0m\u001b[0m\n\u001b[1;32m    109\u001b[0m         \u001b[0mloss\u001b[0m\u001b[0;34m.\u001b[0m\u001b[0mbackward\u001b[0m\u001b[0;34m(\u001b[0m\u001b[0;34m)\u001b[0m\u001b[0;34m\u001b[0m\u001b[0;34m\u001b[0m\u001b[0m\n",
            "\u001b[0;32m/usr/local/lib/python3.8/dist-packages/torch/_tensor.py\u001b[0m in \u001b[0;36m__iter__\u001b[0;34m(self)\u001b[0m\n\u001b[1;32m    914\u001b[0m         \u001b[0;31m# See gh-54457\u001b[0m\u001b[0;34m\u001b[0m\u001b[0;34m\u001b[0m\u001b[0;34m\u001b[0m\u001b[0m\n\u001b[1;32m    915\u001b[0m         \u001b[0;32mif\u001b[0m \u001b[0mself\u001b[0m\u001b[0;34m.\u001b[0m\u001b[0mdim\u001b[0m\u001b[0;34m(\u001b[0m\u001b[0;34m)\u001b[0m \u001b[0;34m==\u001b[0m \u001b[0;36m0\u001b[0m\u001b[0;34m:\u001b[0m\u001b[0;34m\u001b[0m\u001b[0;34m\u001b[0m\u001b[0m\n\u001b[0;32m--> 916\u001b[0;31m             \u001b[0;32mraise\u001b[0m \u001b[0mTypeError\u001b[0m\u001b[0;34m(\u001b[0m\u001b[0;34m\"iteration over a 0-d tensor\"\u001b[0m\u001b[0;34m)\u001b[0m\u001b[0;34m\u001b[0m\u001b[0;34m\u001b[0m\u001b[0m\n\u001b[0m\u001b[1;32m    917\u001b[0m         \u001b[0;32mif\u001b[0m \u001b[0mtorch\u001b[0m\u001b[0;34m.\u001b[0m\u001b[0m_C\u001b[0m\u001b[0;34m.\u001b[0m\u001b[0m_get_tracing_state\u001b[0m\u001b[0;34m(\u001b[0m\u001b[0;34m)\u001b[0m\u001b[0;34m:\u001b[0m\u001b[0;34m\u001b[0m\u001b[0;34m\u001b[0m\u001b[0m\n\u001b[1;32m    918\u001b[0m             warnings.warn(\n",
            "\u001b[0;31mTypeError\u001b[0m: iteration over a 0-d tensor"
          ]
        }
      ]
    },
    {
      "cell_type": "code",
      "source": [
        "print(loss_arr)"
      ],
      "metadata": {
        "id": "OcQQaeIFFKPA",
        "colab": {
          "base_uri": "https://localhost:8080/"
        },
        "outputId": "1635749f-6f25-4efc-f6c8-d5a80a159797"
      },
      "execution_count": null,
      "outputs": [
        {
          "output_type": "stream",
          "name": "stdout",
          "text": [
            "[]\n"
          ]
        }
      ]
    },
    {
      "cell_type": "code",
      "source": [
        "import numpy as np\n",
        "MSE = mse_loss(preds,y)\n",
        "print(\"MSE: \",MSE)\n",
        "\n",
        "print(\"Weights: \",weights)\n",
        "print(\"Bias: \",biass)"
      ],
      "metadata": {
        "colab": {
          "base_uri": "https://localhost:8080/"
        },
        "id": "xLpENqbMFLdU",
        "outputId": "58062aeb-45af-4fe7-b3d1-4568360a7840"
      },
      "execution_count": null,
      "outputs": [
        {
          "output_type": "stream",
          "name": "stdout",
          "text": [
            "MSE:  tensor(2525.7390, grad_fn=<DivBackward0>)\n",
            "Weights:  tensor([[-1.8869,  2.1758,  0.7298]], requires_grad=True)\n",
            "Bias:  tensor([-0.4235], requires_grad=True)\n"
          ]
        }
      ]
    },
    {
      "cell_type": "code",
      "source": [
        "import numpy as np\n",
        "from sklearn.linear_model import LinearRegression\n",
        "\n",
        "model = LinearRegression()\n",
        "\n",
        "history = model.fit(X_train, y_train)\n",
        "print(history)\n",
        "# loss_train = history['train_loss']\n",
        "# epochs = range(1,1000)\n",
        "# plt.plot(epochs, loss_train, 'g', label='Training loss')\n",
        "# plt.title('Training loss')\n",
        "# plt.xlabel('Epochs')\n",
        "# plt.ylabel('Loss')\n",
        "# plt.legend()\n",
        "# plt.show()"
      ],
      "metadata": {
        "colab": {
          "base_uri": "https://localhost:8080/"
        },
        "id": "-QJwi_HNFNDu",
        "outputId": "91a9e2cd-358b-4ca1-849c-4262922b46e8"
      },
      "execution_count": null,
      "outputs": [
        {
          "output_type": "stream",
          "name": "stdout",
          "text": [
            "LinearRegression()\n"
          ]
        }
      ]
    },
    {
      "cell_type": "markdown",
      "source": [
        "# Lab 4_1"
      ],
      "metadata": {
        "id": "-2Db1I_CH8SW"
      }
    },
    {
      "cell_type": "code",
      "source": [
        "# Import Numpy & PyTorch\n",
        "import numpy as np\n",
        "import torch\n",
        "from torch.utils.data import TensorDataset, DataLoader\n",
        "import torch.nn as nn\n",
        "\n",
        "input = np.array([[73, 67, 43], [91, 88, 64], [87, 134, 58], [102, 43, 37],[69, 96, 70], [73, 67, 43], [91, 88, 64], [87, 134, 58], [102, 43, 37], [69,96, 70],\n",
        "                   [73, 67, 43], [91, 88, 64], [87, 134, 58], [102, 43, 37], [69, 96,70]], dtype='float32')\n",
        "# Targets (apples, oranges)\n",
        "target = np.array([[56, 70], [81, 101], [119, 133], [22, 37], [103, 119],[56, 70], [81, 101], [119, 133], [22, 37], [103, 119],\n",
        "[56, 70], [81, 101], [119, 133], [22, 37], [103, 119]],dtype='float32')\n",
        "\n",
        "inputs = torch.from_numpy(input)\n",
        "targets = torch.from_numpy(target)\n",
        "\n",
        "# Define dataset\n",
        "train_ds = TensorDataset(inputs,targets)\n",
        "\n",
        "# Define data loader\n",
        "batch_size = 5\n",
        "train_dl = DataLoader(train_ds, batch_size, shuffle=True)\n",
        "next(iter(train_dl))\n",
        "\n",
        "# Define model\n",
        "model = nn.Linear(3,2)\n",
        "print(model.weight)\n",
        "print(model.bias)"
      ],
      "metadata": {
        "colab": {
          "base_uri": "https://localhost:8080/"
        },
        "id": "QjHfBDNLH9tD",
        "outputId": "5605baa8-ce93-41e5-e094-282cf1765872"
      },
      "execution_count": null,
      "outputs": [
        {
          "output_type": "stream",
          "name": "stdout",
          "text": [
            "Parameter containing:\n",
            "tensor([[-0.5189,  0.1947, -0.2904],\n",
            "        [-0.0798, -0.3647,  0.0358]], requires_grad=True)\n",
            "Parameter containing:\n",
            "tensor([-0.2055, -0.2495], requires_grad=True)\n"
          ]
        }
      ]
    },
    {
      "cell_type": "code",
      "source": [
        "# Define optimizer\n",
        "opt = torch.optim.SGD(model.parameters(), lr=1e-5)"
      ],
      "metadata": {
        "id": "BX12ke_cH-5c"
      },
      "execution_count": null,
      "outputs": []
    },
    {
      "cell_type": "code",
      "source": [
        "# Define loss function\n",
        "import torch.nn.functional as F\n",
        "\n",
        "loss_fn = F.mse_loss\n",
        "loss = loss_fn(model(inputs), targets)\n",
        "print(loss)"
      ],
      "metadata": {
        "colab": {
          "base_uri": "https://localhost:8080/"
        },
        "id": "3A3gHj-iIAF_",
        "outputId": "3b26c72c-ea54-4d23-87d2-30f8ddcfba4b"
      },
      "execution_count": null,
      "outputs": [
        {
          "output_type": "stream",
          "name": "stdout",
          "text": [
            "tensor(16765.0957, grad_fn=<MseLossBackward0>)\n"
          ]
        }
      ]
    },
    {
      "cell_type": "code",
      "source": [
        "# Define a utility function to train the model\n",
        "def fit(num_epochs, model, loss_fn, opt):\n",
        "    for epoch in range(num_epochs):\n",
        "        for xb,yb in train_dl:\n",
        "            # Generate predictions\n",
        "            pred = model(xb)\n",
        "            loss = loss_fn(pred, yb)\n",
        "            # Perform gradient descent\n",
        "            loss.backward()\n",
        "            opt.step()\n",
        "            opt.zero_grad()\n",
        "    print('Training loss: ', loss_fn(model(inputs), targets))\n",
        "\n",
        "# Train the model for 100 epochs\n",
        "fit(100, model, loss_fn, opt)"
      ],
      "metadata": {
        "colab": {
          "base_uri": "https://localhost:8080/"
        },
        "id": "yWzaROlaIA-g",
        "outputId": "26a49611-e246-4cfb-82b2-e3eb8b5f71ef"
      },
      "execution_count": null,
      "outputs": [
        {
          "output_type": "stream",
          "name": "stdout",
          "text": [
            "Training loss:  tensor(23.7071, grad_fn=<MseLossBackward0>)\n"
          ]
        }
      ]
    },
    {
      "cell_type": "code",
      "source": [
        "# Generate predictions\n",
        "preds = model(inputs)\n",
        "preds"
      ],
      "metadata": {
        "colab": {
          "base_uri": "https://localhost:8080/"
        },
        "id": "BZ52T-6HICKS",
        "outputId": "53fd4d92-4080-4363-c7ce-de443a86cdbe"
      },
      "execution_count": null,
      "outputs": [
        {
          "output_type": "execute_result",
          "data": {
            "text/plain": [
              "tensor([[ 58.0238,  71.6338],\n",
              "        [ 79.4021,  99.3211],\n",
              "        [123.8609, 133.6501],\n",
              "        [ 25.7914,  44.9240],\n",
              "        [ 94.2406, 112.1449],\n",
              "        [ 58.0238,  71.6338],\n",
              "        [ 79.4021,  99.3211],\n",
              "        [123.8609, 133.6501],\n",
              "        [ 25.7914,  44.9240],\n",
              "        [ 94.2406, 112.1449],\n",
              "        [ 58.0238,  71.6338],\n",
              "        [ 79.4021,  99.3211],\n",
              "        [123.8609, 133.6501],\n",
              "        [ 25.7914,  44.9240],\n",
              "        [ 94.2406, 112.1449]], grad_fn=<AddmmBackward0>)"
            ]
          },
          "metadata": {},
          "execution_count": 16
        }
      ]
    },
    {
      "cell_type": "code",
      "source": [
        "# Compare with targets\n",
        "targets\n",
        "\n",
        "print(inputs)\n",
        "print(targets)"
      ],
      "metadata": {
        "colab": {
          "base_uri": "https://localhost:8080/"
        },
        "id": "Nx4UPP1EIDMH",
        "outputId": "503f4503-c03a-4926-858d-9ca577fa2ad4"
      },
      "execution_count": null,
      "outputs": [
        {
          "output_type": "stream",
          "name": "stdout",
          "text": [
            "tensor([[ 73.,  67.,  43.],\n",
            "        [ 91.,  88.,  64.],\n",
            "        [ 87., 134.,  58.],\n",
            "        [102.,  43.,  37.],\n",
            "        [ 69.,  96.,  70.],\n",
            "        [ 73.,  67.,  43.],\n",
            "        [ 91.,  88.,  64.],\n",
            "        [ 87., 134.,  58.],\n",
            "        [102.,  43.,  37.],\n",
            "        [ 69.,  96.,  70.],\n",
            "        [ 73.,  67.,  43.],\n",
            "        [ 91.,  88.,  64.],\n",
            "        [ 87., 134.,  58.],\n",
            "        [102.,  43.,  37.],\n",
            "        [ 69.,  96.,  70.]])\n",
            "tensor([[ 56.,  70.],\n",
            "        [ 81., 101.],\n",
            "        [119., 133.],\n",
            "        [ 22.,  37.],\n",
            "        [103., 119.],\n",
            "        [ 56.,  70.],\n",
            "        [ 81., 101.],\n",
            "        [119., 133.],\n",
            "        [ 22.,  37.],\n",
            "        [103., 119.],\n",
            "        [ 56.,  70.],\n",
            "        [ 81., 101.],\n",
            "        [119., 133.],\n",
            "        [ 22.,  37.],\n",
            "        [103., 119.]])\n"
          ]
        }
      ]
    },
    {
      "cell_type": "code",
      "source": [
        "fit(100, model, loss_fn, opt)"
      ],
      "metadata": {
        "colab": {
          "base_uri": "https://localhost:8080/"
        },
        "id": "CX8EIUXzIEPB",
        "outputId": "4b68cb2a-71f6-4be6-8376-6d2bc8edfd5e"
      },
      "execution_count": null,
      "outputs": [
        {
          "output_type": "stream",
          "name": "stdout",
          "text": [
            "Training loss:  tensor(9.4001, grad_fn=<MseLossBackward0>)\n"
          ]
        }
      ]
    },
    {
      "cell_type": "markdown",
      "source": [
        "## Exercise 1:\n",
        "Try Linear Regression just using numpy (Without Tensorflow/Pytorch or other torch library). You can optionally use sklearn (if you want)."
      ],
      "metadata": {
        "id": "rHJQTz9zIFar"
      }
    },
    {
      "cell_type": "code",
      "source": [
        "import pandas as pd\n",
        "import numpy as np\n",
        "import matplotlib.pyplot as plt\n",
        "\n",
        "from sklearn.linear_model import LinearRegression, SGDRegressor\n",
        "from sklearn.metrics import mean_squared_error\n",
        "from sklearn.model_selection import train_test_split\n",
        "from sklearn.preprocessing import StandardScaler\n",
        "from sklearn.pipeline import make_pipeline"
      ],
      "metadata": {
        "id": "nx4oksKiILa7"
      },
      "execution_count": null,
      "outputs": []
    },
    {
      "cell_type": "code",
      "source": [
        "class LinearRegression():\n",
        "    def __init__(self):\n",
        "        self.b0 = 0\n",
        "        self.b1 = 0\n",
        "        \n",
        "    def fit(self, X, y):\n",
        "        mean_x = np.mean(X)\n",
        "        mean_y = np.mean(y)\n",
        "        \n",
        "        SSxy = np.sum(np.multiply(X, y)) - len(x) * mean_x * mean_y\n",
        "        SSxx = np.sum(np.multiply(X, x)) - len(x) * mean_x * mean_x\n",
        "        \n",
        "        self.b1 = SSxy / SSxx\n",
        "        self.b0 = mean_y - self.b1 * mean_x\n",
        "    \n",
        "    def predict(self, input_data):\n",
        "        return self.b0 + self.b1 * input_data"
      ],
      "metadata": {
        "id": "woHtDGV6IMxt"
      },
      "execution_count": null,
      "outputs": []
    },
    {
      "cell_type": "code",
      "source": [
        "x = np.array([1, 2, 3, 4, 5, 6, 7, 8, 9, 10, 11])\n",
        "y = np.array([6, 6, 11, 17, 16, 20, 23, 23, 29, 33, 39])\n",
        "\n",
        "model = LinearRegression()\n",
        "model.fit(x, y)"
      ],
      "metadata": {
        "id": "TYq5JB1eINt2"
      },
      "execution_count": null,
      "outputs": []
    },
    {
      "cell_type": "code",
      "source": [
        "predictions = model.predict(x)\n",
        "plt.scatter(x = x, y = y, color='orange')\n",
        "plt.plot(predictions, color='orange')\n",
        "plt.show()"
      ],
      "metadata": {
        "colab": {
          "base_uri": "https://localhost:8080/",
          "height": 265
        },
        "id": "f9w6x_2tIOng",
        "outputId": "a03baee6-0504-4eb8-d7af-ab1fd41b42bb"
      },
      "execution_count": null,
      "outputs": [
        {
          "output_type": "display_data",
          "data": {
            "text/plain": [
              "<Figure size 432x288 with 1 Axes>"
            ],
            "image/png": "[encoded data removed]"
          },
          "metadata": {
            "needs_background": "light"
          }
        }
      ]
    },
    {
      "cell_type": "markdown",
      "source": [
        "## Exercise 2\n",
        "Try Linear regression on same prediction data using Tensorflow."
      ],
      "metadata": {
        "id": "rwMqbsrgIPjW"
      }
    },
    {
      "cell_type": "code",
      "source": [
        "import numpy as np\n",
        "import tensorflow as tf\n",
        "import matplotlib.pyplot as plt\n",
        "\n",
        "\n",
        "np.random.seed(101)\n",
        "tf.random.set_seed(101)"
      ],
      "metadata": {
        "id": "nTXRsNN4IUl0"
      },
      "execution_count": null,
      "outputs": []
    },
    {
      "cell_type": "code",
      "source": [
        "# Generating random linear data\n",
        "# There will be 50 data points ranging from 0 to 50\n",
        "\n",
        "# x = np.linspace(0, 50, 50)\n",
        "# y = np.linspace(0, 50, 50)\n",
        "x = np.array([1, 2, 3, 4, 5, 6, 7, 8, 9, 10, 11])\n",
        "y = np.array([6, 6, 11, 17, 16, 20, 23, 23, 29, 33, 39])\n",
        " \n",
        "# Adding noise to the random linear data\n",
        "# x += np.random.uniform(-4, 4, 50)\n",
        "# y += np.random.uniform(-4, 4, 50)\n",
        " \n",
        "n = len(x) # Number of data points"
      ],
      "metadata": {
        "id": "XANlpwhwITyf"
      },
      "execution_count": null,
      "outputs": []
    },
    {
      "cell_type": "code",
      "source": [
        "# Plot of Training Data\n",
        "plt.scatter(x, y)\n",
        "plt.xlabel('x')\n",
        "plt.ylabel('y')\n",
        "plt.title(\"Training Data\")\n",
        "plt.show()"
      ],
      "metadata": {
        "colab": {
          "base_uri": "https://localhost:8080/",
          "height": 295
        },
        "id": "jzspLIBRIZ3A",
        "outputId": "ed09ad69-114a-4834-8ffb-7ef3822b378e"
      },
      "execution_count": null,
      "outputs": [
        {
          "output_type": "display_data",
          "data": {
            "text/plain": [
              "<Figure size 432x288 with 1 Axes>"
            ],
            "image/png": "[encoded data removed]"
          },
          "metadata": {
            "needs_background": "light"
          }
        }
      ]
    },
    {
      "cell_type": "code",
      "source": [
        "pip uninstall tensorflow-gpu tensorflow tensorflow-base"
      ],
      "metadata": {
        "colab": {
          "base_uri": "https://localhost:8080/"
        },
        "id": "KvyavFYpIatn",
        "outputId": "74425959-72d4-4655-dfa2-56b96ee7053b"
      },
      "execution_count": null,
      "outputs": [
        {
          "output_type": "stream",
          "name": "stdout",
          "text": [
            "\u001b[33mWARNING: Skipping tensorflow-gpu as it is not installed.\u001b[0m\u001b[33m\n",
            "\u001b[0mFound existing installation: tensorflow 2.11.0\n",
            "Uninstalling tensorflow-2.11.0:\n",
            "  Would remove:\n",
            "    /usr/local/bin/estimator_ckpt_converter\n",
            "    /usr/local/bin/import_pb_to_tensorboard\n",
            "    /usr/local/bin/saved_model_cli\n",
            "    /usr/local/bin/tensorboard\n",
            "    /usr/local/bin/tf_upgrade_v2\n",
            "    /usr/local/bin/tflite_convert\n",
            "    /usr/local/bin/toco\n",
            "    /usr/local/bin/toco_from_protos\n",
            "    /usr/local/lib/python3.8/dist-packages/tensorflow-2.11.0.dist-info/*\n",
            "    /usr/local/lib/python3.8/dist-packages/tensorflow/*\n",
            "Proceed (Y/n)? y\n",
            "  Successfully uninstalled tensorflow-2.11.0\n",
            "\u001b[33mWARNING: Skipping tensorflow-base as it is not installed.\u001b[0m\u001b[33m\n",
            "\u001b[0m"
          ]
        }
      ]
    },
    {
      "cell_type": "code",
      "source": [
        "pip install tensorflow"
      ],
      "metadata": {
        "colab": {
          "base_uri": "https://localhost:8080/",
          "height": 939
        },
        "id": "Ir0V4taAIb3x",
        "outputId": "cbc8d196-09a7-441e-fc07-701fcdfac429"
      },
      "execution_count": null,
      "outputs": [
        {
          "output_type": "stream",
          "name": "stdout",
          "text": [
            "Looking in indexes: https://pypi.org/simple, https://us-python.pkg.dev/colab-wheels/public/simple/\n",
            "Collecting tensorflow\n",
            "  Downloading tensorflow-2.11.0-cp38-cp38-manylinux_2_17_x86_64.manylinux2014_x86_64.whl (588.3 MB)\n",
            "\u001b[2K     \u001b[90m━━━━━━━━━━━━━━━━━━━━━━━━━━━━━━━━━━━━━━━\u001b[0m \u001b[32m588.3/588.3 MB\u001b[0m \u001b[31m2.4 MB/s\u001b[0m eta \u001b[36m0:00:00\u001b[0m\n",
            "\u001b[?25hRequirement already satisfied: numpy>=1.20 in /usr/local/lib/python3.8/dist-packages (from tensorflow) (1.22.4)\n",
            "Requirement already satisfied: keras<2.12,>=2.11.0 in /usr/local/lib/python3.8/dist-packages (from tensorflow) (2.11.0)\n",
            "Requirement already satisfied: tensorboard<2.12,>=2.11 in /usr/local/lib/python3.8/dist-packages (from tensorflow) (2.11.2)\n",
            "Requirement already satisfied: grpcio<2.0,>=1.24.3 in /usr/local/lib/python3.8/dist-packages (from tensorflow) (1.51.1)\n",
            "Requirement already satisfied: typing-extensions>=3.6.6 in /usr/local/lib/python3.8/dist-packages (from tensorflow) (4.5.0)\n",
            "Requirement already satisfied: setuptools in /usr/local/lib/python3.8/dist-packages (from tensorflow) (57.4.0)\n",
            "Requirement already satisfied: termcolor>=1.1.0 in /usr/local/lib/python3.8/dist-packages (from tensorflow) (2.2.0)\n",
            "Requirement already satisfied: absl-py>=1.0.0 in /usr/local/lib/python3.8/dist-packages (from tensorflow) (1.4.0)\n",
            "Requirement already satisfied: gast<=0.4.0,>=0.2.1 in /usr/local/lib/python3.8/dist-packages (from tensorflow) (0.4.0)\n",
            "Requirement already satisfied: wrapt>=1.11.0 in /usr/local/lib/python3.8/dist-packages (from tensorflow) (1.14.1)\n",
            "Requirement already satisfied: astunparse>=1.6.0 in /usr/local/lib/python3.8/dist-packages (from tensorflow) (1.6.3)\n",
            "Requirement already satisfied: tensorflow-io-gcs-filesystem>=0.23.1 in /usr/local/lib/python3.8/dist-packages (from tensorflow) (0.30.0)\n",
            "Requirement already satisfied: opt-einsum>=2.3.2 in /usr/local/lib/python3.8/dist-packages (from tensorflow) (3.3.0)\n",
            "Requirement already satisfied: tensorflow-estimator<2.12,>=2.11.0 in /usr/local/lib/python3.8/dist-packages (from tensorflow) (2.11.0)\n",
            "Requirement already satisfied: flatbuffers>=2.0 in /usr/local/lib/python3.8/dist-packages (from tensorflow) (23.1.21)\n",
            "Requirement already satisfied: packaging in /usr/local/lib/python3.8/dist-packages (from tensorflow) (23.0)\n",
            "Requirement already satisfied: google-pasta>=0.1.1 in /usr/local/lib/python3.8/dist-packages (from tensorflow) (0.2.0)\n",
            "Requirement already satisfied: h5py>=2.9.0 in /usr/local/lib/python3.8/dist-packages (from tensorflow) (3.1.0)\n",
            "Requirement already satisfied: protobuf<3.20,>=3.9.2 in /usr/local/lib/python3.8/dist-packages (from tensorflow) (3.19.6)\n",
            "Requirement already satisfied: libclang>=13.0.0 in /usr/local/lib/python3.8/dist-packages (from tensorflow) (15.0.6.1)\n",
            "Requirement already satisfied: six>=1.12.0 in /usr/local/lib/python3.8/dist-packages (from tensorflow) (1.15.0)\n",
            "Requirement already satisfied: wheel<1.0,>=0.23.0 in /usr/local/lib/python3.8/dist-packages (from astunparse>=1.6.0->tensorflow) (0.38.4)\n",
            "Requirement already satisfied: google-auth-oauthlib<0.5,>=0.4.1 in /usr/local/lib/python3.8/dist-packages (from tensorboard<2.12,>=2.11->tensorflow) (0.4.6)\n",
            "Requirement already satisfied: tensorboard-data-server<0.7.0,>=0.6.0 in /usr/local/lib/python3.8/dist-packages (from tensorboard<2.12,>=2.11->tensorflow) (0.6.1)\n",
            "Requirement already satisfied: markdown>=2.6.8 in /usr/local/lib/python3.8/dist-packages (from tensorboard<2.12,>=2.11->tensorflow) (3.4.1)\n",
            "Requirement already satisfied: google-auth<3,>=1.6.3 in /usr/local/lib/python3.8/dist-packages (from tensorboard<2.12,>=2.11->tensorflow) (2.16.0)\n",
            "Requirement already satisfied: tensorboard-plugin-wit>=1.6.0 in /usr/local/lib/python3.8/dist-packages (from tensorboard<2.12,>=2.11->tensorflow) (1.8.1)\n",
            "Requirement already satisfied: requests<3,>=2.21.0 in /usr/local/lib/python3.8/dist-packages (from tensorboard<2.12,>=2.11->tensorflow) (2.25.1)\n",
            "Requirement already satisfied: werkzeug>=1.0.1 in /usr/local/lib/python3.8/dist-packages (from tensorboard<2.12,>=2.11->tensorflow) (1.0.1)\n",
            "Requirement already satisfied: cachetools<6.0,>=2.0.0 in /usr/local/lib/python3.8/dist-packages (from google-auth<3,>=1.6.3->tensorboard<2.12,>=2.11->tensorflow) (5.3.0)\n",
            "Requirement already satisfied: pyasn1-modules>=0.2.1 in /usr/local/lib/python3.8/dist-packages (from google-auth<3,>=1.6.3->tensorboard<2.12,>=2.11->tensorflow) (0.2.8)\n",
            "Requirement already satisfied: rsa<5,>=3.1.4 in /usr/local/lib/python3.8/dist-packages (from google-auth<3,>=1.6.3->tensorboard<2.12,>=2.11->tensorflow) (4.9)\n",
            "Requirement already satisfied: requests-oauthlib>=0.7.0 in /usr/local/lib/python3.8/dist-packages (from google-auth-oauthlib<0.5,>=0.4.1->tensorboard<2.12,>=2.11->tensorflow) (1.3.1)\n",
            "Requirement already satisfied: importlib-metadata>=4.4 in /usr/local/lib/python3.8/dist-packages (from markdown>=2.6.8->tensorboard<2.12,>=2.11->tensorflow) (6.0.0)\n",
            "Requirement already satisfied: urllib3<1.27,>=1.21.1 in /usr/local/lib/python3.8/dist-packages (from requests<3,>=2.21.0->tensorboard<2.12,>=2.11->tensorflow) (1.24.3)\n",
            "Requirement already satisfied: idna<3,>=2.5 in /usr/local/lib/python3.8/dist-packages (from requests<3,>=2.21.0->tensorboard<2.12,>=2.11->tensorflow) (2.10)\n",
            "Requirement already satisfied: certifi>=2017.4.17 in /usr/local/lib/python3.8/dist-packages (from requests<3,>=2.21.0->tensorboard<2.12,>=2.11->tensorflow) (2022.12.7)\n",
            "Requirement already satisfied: chardet<5,>=3.0.2 in /usr/local/lib/python3.8/dist-packages (from requests<3,>=2.21.0->tensorboard<2.12,>=2.11->tensorflow) (4.0.0)\n",
            "Requirement already satisfied: zipp>=0.5 in /usr/local/lib/python3.8/dist-packages (from importlib-metadata>=4.4->markdown>=2.6.8->tensorboard<2.12,>=2.11->tensorflow) (3.13.0)\n",
            "Requirement already satisfied: pyasn1<0.5.0,>=0.4.6 in /usr/local/lib/python3.8/dist-packages (from pyasn1-modules>=0.2.1->google-auth<3,>=1.6.3->tensorboard<2.12,>=2.11->tensorflow) (0.4.8)\n",
            "Requirement already satisfied: oauthlib>=3.0.0 in /usr/local/lib/python3.8/dist-packages (from requests-oauthlib>=0.7.0->google-auth-oauthlib<0.5,>=0.4.1->tensorboard<2.12,>=2.11->tensorflow) (3.2.2)\n",
            "Installing collected packages: tensorflow\n",
            "Successfully installed tensorflow-2.11.0\n"
          ]
        },
        {
          "output_type": "display_data",
          "data": {
            "application/vnd.colab-display-data+json": {
              "pip_warning": {
                "packages": [
                  "tensorflow"
                ]
              }
            }
          },
          "metadata": {}
        }
      ]
    },
    {
      "cell_type": "code",
      "source": [
        "import tensorflow.compat.v1 as tf\n",
        "tf.disable_v2_behavior()\n",
        "\n",
        "X = tf.compat.v1.placeholder(\"float\")\n",
        "Y = tf.compat.v1.placeholder(\"float\")"
      ],
      "metadata": {
        "colab": {
          "base_uri": "https://localhost:8080/"
        },
        "id": "8eOaaToPIlfl",
        "outputId": "1d7de68e-be47-42a7-cb58-c6311b9e0156"
      },
      "execution_count": null,
      "outputs": [
        {
          "output_type": "stream",
          "name": "stderr",
          "text": [
            "WARNING:tensorflow:From /usr/local/lib/python3.8/dist-packages/tensorflow/python/compat/v2_compat.py:107: disable_resource_variables (from tensorflow.python.ops.variable_scope) is deprecated and will be removed in a future version.\n",
            "Instructions for updating:\n",
            "non-resource variables are not supported in the long term\n"
          ]
        }
      ]
    },
    {
      "cell_type": "code",
      "source": [
        "W = tf.Variable(np.random.randn(), name = \"W\")\n",
        "b = tf.Variable(np.random.randn(), name = \"b\")\n",
        "\n",
        "learning_rate = 0.01\n",
        "training_epochs = 1000\n",
        "\n",
        "# Hypothesis\n",
        "y_pred = tf.add(tf.multiply(X, W), b)\n",
        " \n",
        "# Mean Squared Error Cost Function\n",
        "cost = tf.reduce_sum(tf.pow(y_pred-Y, 2)) / (2 * n)\n",
        " \n",
        "# Gradient Descent Optimizer\n",
        "optimizer = tf.train.GradientDescentOptimizer(learning_rate).minimize(cost)\n",
        " \n",
        "# Global Variables Initializer\n",
        "init = tf.global_variables_initializer()"
      ],
      "metadata": {
        "id": "XcbqBJc-In-T"
      },
      "execution_count": null,
      "outputs": []
    },
    {
      "cell_type": "code",
      "source": [
        "# Starting the Tensorflow Session\n",
        "with tf.Session() as sess:\n",
        "     \n",
        "    # Initializing the Variables\n",
        "    sess.run(init)\n",
        "     \n",
        "    # Iterating through all the epochs\n",
        "    for epoch in range(training_epochs):\n",
        "         \n",
        "        # Feeding each data point into the optimizer using Feed Dictionary\n",
        "        for (_x, _y) in zip(x, y):\n",
        "            sess.run(optimizer, feed_dict = {X : _x, Y : _y})\n",
        "         \n",
        "        # Displaying the result after every 50 epochs\n",
        "        if (epoch + 1) % 50 == 0:\n",
        "            # Calculating the cost a every epoch\n",
        "            c = sess.run(cost, feed_dict = {X : x, Y : y})\n",
        "            print(\"Epoch\", (epoch + 1), \": cost =\", c, \"W =\", sess.run(W), \"b =\", sess.run(b))\n",
        "     \n",
        "    # Storing necessary values to be used outside the Session\n",
        "    training_cost = sess.run(cost, feed_dict ={X: x, Y: y})\n",
        "    weight = sess.run(W)\n",
        "    bias = sess.run(b)"
      ],
      "metadata": {
        "colab": {
          "base_uri": "https://localhost:8080/"
        },
        "id": "-pUqEqt4Io92",
        "outputId": "d674bf7c-c90d-4398-96eb-4f7ebe968ac6"
      },
      "execution_count": null,
      "outputs": [
        {
          "output_type": "stream",
          "name": "stdout",
          "text": [
            "Epoch 50 : cost = 1.7700539 W = 3.2434921 b = 0.76008624\n",
            "Epoch 100 : cost = 1.7633674 W = 3.2370675 b = 0.8118001\n",
            "Epoch 150 : cost = 1.7578653 W = 3.2312994 b = 0.8582286\n",
            "Epoch 200 : cost = 1.7533263 W = 3.2261207 b = 0.89991146\n",
            "Epoch 250 : cost = 1.749575 W = 3.2214713 b = 0.9373347\n",
            "Epoch 300 : cost = 1.7464694 W = 3.2172968 b = 0.9709321\n",
            "Epoch 350 : cost = 1.7438917 W = 3.2135494 b = 1.0010957\n",
            "Epoch 400 : cost = 1.7417483 W = 3.2101853 b = 1.028176\n",
            "Epoch 450 : cost = 1.7399601 W = 3.2071643 b = 1.0524899\n",
            "Epoch 500 : cost = 1.7384661 W = 3.2044525 b = 1.0743172\n",
            "Epoch 550 : cost = 1.7372134 W = 3.202018 b = 1.0939153\n",
            "Epoch 600 : cost = 1.7361597 W = 3.199832 b = 1.1115103\n",
            "Epoch 650 : cost = 1.7352709 W = 3.1978693 b = 1.127305\n",
            "Epoch 700 : cost = 1.7345207 W = 3.1961074 b = 1.1414874\n",
            "Epoch 750 : cost = 1.733884 W = 3.194526 b = 1.1542196\n",
            "Epoch 800 : cost = 1.7333448 W = 3.1931057 b = 1.1656507\n",
            "Epoch 850 : cost = 1.7328814 W = 3.1918304 b = 1.1759132\n",
            "Epoch 900 : cost = 1.732488 W = 3.1906857 b = 1.1851267\n",
            "Epoch 950 : cost = 1.7321489 W = 3.1896584 b = 1.1933982\n",
            "Epoch 1000 : cost = 1.7318579 W = 3.1887352 b = 1.2008244\n"
          ]
        }
      ]
    },
    {
      "cell_type": "code",
      "source": [
        "# Calculating the predictions\n",
        "predictions = weight * x + bias\n",
        "print(\"Training cost =\", training_cost, \"Weight =\", weight, \"bias =\", bias, '\\n')"
      ],
      "metadata": {
        "colab": {
          "base_uri": "https://localhost:8080/"
        },
        "id": "FSCTgQcEIq5L",
        "outputId": "c150c148-663f-40ae-c146-035cf25d0ec4"
      },
      "execution_count": null,
      "outputs": [
        {
          "output_type": "stream",
          "name": "stdout",
          "text": [
            "Training cost = 1.7318579 Weight = 3.1887352 bias = 1.2008244 \n",
            "\n"
          ]
        }
      ]
    },
    {
      "cell_type": "code",
      "source": [
        "# Plotting the Results\n",
        "plt.plot(x, y, 'ro', label ='Original data')\n",
        "plt.plot(x, predictions, label ='Fitted line')\n",
        "plt.title('Linear Regression Result')\n",
        "plt.legend()\n",
        "plt.show()"
      ],
      "metadata": {
        "colab": {
          "base_uri": "https://localhost:8080/",
          "height": 281
        },
        "id": "Y-uJH8nDIsjF",
        "outputId": "449c69d0-4178-4c21-dd13-da2d6f7de655"
      },
      "execution_count": null,
      "outputs": [
        {
          "output_type": "display_data",
          "data": {
            "text/plain": [
              "<Figure size 432x288 with 1 Axes>"
            ],
            "image/png": "[encoded data removed]"
          },
          "metadata": {
            "needs_background": "light"
          }
        }
      ]
    },
    {
      "cell_type": "code",
      "source": [],
      "metadata": {
        "id": "bEX4B_a22DPP"
      },
      "execution_count": null,
      "outputs": []
    }
  ]
}