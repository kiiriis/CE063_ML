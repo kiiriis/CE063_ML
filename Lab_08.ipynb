{
  "nbformat": 4,
  "nbformat_minor": 0,
  "metadata": {
    "colab": {
      "provenance": [],
      "authorship_tag": "ABX9TyMQTf6gBax5VqNP7jf1ec1/",
      "include_colab_link": true
    },
    "kernelspec": {
      "name": "python3",
      "display_name": "Python 3"
    },
    "language_info": {
      "name": "python"
    },
    "accelerator": "GPU",
    "gpuClass": "standard"
  },
  "cells": [
    {
      "cell_type": "markdown",
      "metadata": {
        "id": "view-in-github",
        "colab_type": "text"
      },
      "source": [
        "<a href=\"https://colab.research.google.com/github/kiiriis/CE063_ML/blob/main/Lab_08.ipynb\" target=\"_parent\"><img src=\"https://colab.research.google.com/assets/colab-badge.svg\" alt=\"Open In Colab\"/></a>"
      ]
    },
    {
      "cell_type": "markdown",
      "source": [
        "# Stacking algorithm implementation"
      ],
      "metadata": {
        "id": "BERVwTKlPjtw"
      }
    },
    {
      "cell_type": "code",
      "source": [
        "import pandas as pd\n",
        "import numpy as np\n",
        "from sklearn.metrics import accuracy_score"
      ],
      "metadata": {
        "id": "h_94ELDRQML_"
      },
      "execution_count": null,
      "outputs": []
    },
    {
      "cell_type": "code",
      "source": [
        "#Load the data (Breast Cancer Dataset)\n",
        "#holdout -> validation set\n",
        "from sklearn.model_selection import train_test_split\n",
        "from sklearn.datasets import load_breast_cancer\n",
        "\n",
        "X, y = load_breast_cancer(return_X_y=True)\n",
        "\n",
        "data=load_breast_cancer()\n",
        "data_df = pd.DataFrame(data = data.data,\n",
        "                       columns = data.feature_names)\n",
        "\n",
        "X_train, X_rem, y_train, y_rem = train_test_split(X, y, random_state=63, train_size=0.8)\n",
        "\n",
        "X_valid, X_test, y_valid, y_test = train_test_split(X_rem, y_rem, random_state=63, test_size=0.3)\n",
        "\n",
        "print(X.size)"
      ],
      "metadata": {
        "colab": {
          "base_uri": "https://localhost:8080/"
        },
        "id": "ZuDOzbnjQOYJ",
        "outputId": "e7455dd6-966b-4951-d7f8-b636105e666c"
      },
      "execution_count": null,
      "outputs": [
        {
          "output_type": "stream",
          "name": "stdout",
          "text": [
            "17070\n"
          ]
        }
      ]
    },
    {
      "cell_type": "code",
      "source": [
        "# individual learners of the model\n",
        "\n",
        "from sklearn.linear_model import LogisticRegression\n",
        "from sklearn.tree import DecisionTreeClassifier\n",
        "from sklearn.naive_bayes import GaussianNB\n",
        "\n",
        "models = dict()\n",
        "# preds = list()\n",
        "models['lr'] = LogisticRegression(max_iter=100000)\n",
        "models['cart'] = DecisionTreeClassifier()\n",
        "models['bayes'] = GaussianNB()\n",
        "\n",
        "\n",
        "\n",
        "for model in models:\n",
        "  models[model].fit(X_train,y_train)"
      ],
      "metadata": {
        "id": "8odaL_TxQYM3"
      },
      "execution_count": null,
      "outputs": []
    },
    {
      "cell_type": "code",
      "source": [
        "# Creating a dataframe in which each column represents predicted values of predictors\n",
        "#Predicting output for holdout(validation) set\n",
        "\n",
        "# for model in models:\n",
        "pred1 = models['lr'].predict(X_valid)\n",
        "pred2 = models['cart'].predict(X_valid)\n",
        "pred3 = models['bayes'].predict(X_valid)\n",
        "\n",
        "test_preds1 = models['lr'].predict(X_test)\n",
        "test_preds2 = models['cart'].predict(X_test)\n",
        "test_preds3 = models['bayes'].predict(X_test)\n",
        "\n",
        "data_df_new = pd.DataFrame(data = X_valid,\n",
        "                       columns = data.feature_names)\n",
        "data_df_new['lr'] = pred1\n",
        "data_df_new['cart'] = pred2\n",
        "data_df_new['bayes'] = pred3\n",
        "\n",
        "\n",
        "print(data_df_new.info())\n",
        "print(data_df_new.head())"
      ],
      "metadata": {
        "colab": {
          "base_uri": "https://localhost:8080/"
        },
        "id": "47lHgeL5QZ7D",
        "outputId": "669b4cee-65bc-43e0-895f-3d656330f7a8"
      },
      "execution_count": null,
      "outputs": [
        {
          "output_type": "stream",
          "name": "stdout",
          "text": [
            "<class 'pandas.core.frame.DataFrame'>\n",
            "RangeIndex: 79 entries, 0 to 78\n",
            "Data columns (total 33 columns):\n",
            " #   Column                   Non-Null Count  Dtype  \n",
            "---  ------                   --------------  -----  \n",
            " 0   mean radius              79 non-null     float64\n",
            " 1   mean texture             79 non-null     float64\n",
            " 2   mean perimeter           79 non-null     float64\n",
            " 3   mean area                79 non-null     float64\n",
            " 4   mean smoothness          79 non-null     float64\n",
            " 5   mean compactness         79 non-null     float64\n",
            " 6   mean concavity           79 non-null     float64\n",
            " 7   mean concave points      79 non-null     float64\n",
            " 8   mean symmetry            79 non-null     float64\n",
            " 9   mean fractal dimension   79 non-null     float64\n",
            " 10  radius error             79 non-null     float64\n",
            " 11  texture error            79 non-null     float64\n",
            " 12  perimeter error          79 non-null     float64\n",
            " 13  area error               79 non-null     float64\n",
            " 14  smoothness error         79 non-null     float64\n",
            " 15  compactness error        79 non-null     float64\n",
            " 16  concavity error          79 non-null     float64\n",
            " 17  concave points error     79 non-null     float64\n",
            " 18  symmetry error           79 non-null     float64\n",
            " 19  fractal dimension error  79 non-null     float64\n",
            " 20  worst radius             79 non-null     float64\n",
            " 21  worst texture            79 non-null     float64\n",
            " 22  worst perimeter          79 non-null     float64\n",
            " 23  worst area               79 non-null     float64\n",
            " 24  worst smoothness         79 non-null     float64\n",
            " 25  worst compactness        79 non-null     float64\n",
            " 26  worst concavity          79 non-null     float64\n",
            " 27  worst concave points     79 non-null     float64\n",
            " 28  worst symmetry           79 non-null     float64\n",
            " 29  worst fractal dimension  79 non-null     float64\n",
            " 30  lr                       79 non-null     int64  \n",
            " 31  cart                     79 non-null     int64  \n",
            " 32  bayes                    79 non-null     int64  \n",
            "dtypes: float64(30), int64(3)\n",
            "memory usage: 20.5 KB\n",
            "None\n",
            "   mean radius  mean texture  mean perimeter  mean area  mean smoothness  \\\n",
            "0        14.42         19.77           94.48      642.5          0.09752   \n",
            "1        23.27         22.04          152.10     1686.0          0.08439   \n",
            "2        11.71         17.19           74.68      420.3          0.09774   \n",
            "3        13.53         10.94           87.91      559.2          0.12910   \n",
            "4        13.64         16.34           87.21      571.8          0.07685   \n",
            "\n",
            "   mean compactness  mean concavity  mean concave points  mean symmetry  \\\n",
            "0           0.11410         0.09388              0.05839         0.1879   \n",
            "1           0.11450         0.13240              0.09702         0.1801   \n",
            "2           0.06141         0.03809              0.03239         0.1516   \n",
            "3           0.10470         0.06877              0.06556         0.2403   \n",
            "4           0.06059         0.01857              0.01723         0.1353   \n",
            "\n",
            "   mean fractal dimension  ...  worst area  worst smoothness  \\\n",
            "0                 0.06390  ...       826.4            0.1431   \n",
            "1                 0.05553  ...      2403.0            0.1228   \n",
            "2                 0.06095  ...       521.5            0.1323   \n",
            "3                 0.06641  ...       605.5            0.1451   \n",
            "4                 0.05953  ...       656.7            0.1089   \n",
            "\n",
            "   worst compactness  worst concavity  worst concave points  worst symmetry  \\\n",
            "0             0.3026          0.31940               0.15650          0.2718   \n",
            "1             0.3583          0.39480               0.23460          0.3589   \n",
            "2             0.1040          0.15210               0.10990          0.2572   \n",
            "3             0.1379          0.08539               0.07407          0.2710   \n",
            "4             0.1582          0.10500               0.08586          0.2346   \n",
            "\n",
            "   worst fractal dimension  lr  cart  bayes  \n",
            "0                  0.09353   0     1      1  \n",
            "1                  0.09187   0     0      0  \n",
            "2                  0.07097   1     1      1  \n",
            "3                  0.07191   1     1      1  \n",
            "4                  0.08025   1     1      1  \n",
            "\n",
            "[5 rows x 33 columns]\n"
          ]
        }
      ]
    },
    {
      "cell_type": "code",
      "source": [
        "print(data_df.head())"
      ],
      "metadata": {
        "colab": {
          "base_uri": "https://localhost:8080/"
        },
        "id": "scxZwDHhQbSl",
        "outputId": "eb222ae5-08f6-4d66-b1b2-6839edaba1ef"
      },
      "execution_count": null,
      "outputs": [
        {
          "output_type": "stream",
          "name": "stdout",
          "text": [
            "   mean radius  mean texture  mean perimeter  mean area  mean smoothness  \\\n",
            "0        17.99         10.38          122.80     1001.0          0.11840   \n",
            "1        20.57         17.77          132.90     1326.0          0.08474   \n",
            "2        19.69         21.25          130.00     1203.0          0.10960   \n",
            "3        11.42         20.38           77.58      386.1          0.14250   \n",
            "4        20.29         14.34          135.10     1297.0          0.10030   \n",
            "\n",
            "   mean compactness  mean concavity  mean concave points  mean symmetry  \\\n",
            "0           0.27760          0.3001              0.14710         0.2419   \n",
            "1           0.07864          0.0869              0.07017         0.1812   \n",
            "2           0.15990          0.1974              0.12790         0.2069   \n",
            "3           0.28390          0.2414              0.10520         0.2597   \n",
            "4           0.13280          0.1980              0.10430         0.1809   \n",
            "\n",
            "   mean fractal dimension  ...  worst radius  worst texture  worst perimeter  \\\n",
            "0                 0.07871  ...         25.38          17.33           184.60   \n",
            "1                 0.05667  ...         24.99          23.41           158.80   \n",
            "2                 0.05999  ...         23.57          25.53           152.50   \n",
            "3                 0.09744  ...         14.91          26.50            98.87   \n",
            "4                 0.05883  ...         22.54          16.67           152.20   \n",
            "\n",
            "   worst area  worst smoothness  worst compactness  worst concavity  \\\n",
            "0      2019.0            0.1622             0.6656           0.7119   \n",
            "1      1956.0            0.1238             0.1866           0.2416   \n",
            "2      1709.0            0.1444             0.4245           0.4504   \n",
            "3       567.7            0.2098             0.8663           0.6869   \n",
            "4      1575.0            0.1374             0.2050           0.4000   \n",
            "\n",
            "   worst concave points  worst symmetry  worst fractal dimension  \n",
            "0                0.2654          0.4601                  0.11890  \n",
            "1                0.1860          0.2750                  0.08902  \n",
            "2                0.2430          0.3613                  0.08758  \n",
            "3                0.2575          0.6638                  0.17300  \n",
            "4                0.1625          0.2364                  0.07678  \n",
            "\n",
            "[5 rows x 30 columns]\n"
          ]
        }
      ]
    },
    {
      "cell_type": "code",
      "source": [
        "\n",
        "train_stack = np.column_stack((pred1,pred2,pred3))\n",
        "test_stack = np.column_stack((test_preds1,test_preds2,test_preds3))"
      ],
      "metadata": {
        "id": "db3h2PtWQc_i"
      },
      "execution_count": null,
      "outputs": []
    },
    {
      "cell_type": "code",
      "source": [
        "#blender\n",
        "final_model = LogisticRegression(max_iter=100000)\n",
        "\n",
        "final_model.fit(train_stack,y_valid)"
      ],
      "metadata": {
        "colab": {
          "base_uri": "https://localhost:8080/"
        },
        "id": "wUdSxKpWQhaN",
        "outputId": "8ecb98ea-f14a-4847-b98c-6d74f7e06a42"
      },
      "execution_count": null,
      "outputs": [
        {
          "output_type": "execute_result",
          "data": {
            "text/plain": [
              "LogisticRegression(max_iter=100000)"
            ]
          },
          "metadata": {},
          "execution_count": 65
        }
      ]
    },
    {
      "cell_type": "code",
      "source": [
        "final_predictions = final_model.predict(test_stack)"
      ],
      "metadata": {
        "id": "bDFy9Mu_QiT0"
      },
      "execution_count": null,
      "outputs": []
    },
    {
      "cell_type": "code",
      "source": [
        "#Check accuracy on Test Set\n",
        "#Show classification report\n",
        "\n",
        "from sklearn import metrics\n",
        "\n",
        "print(\"Accuracy: \",metrics.accuracy_score(y_test, final_predictions))\n",
        "print(\"Precision: \",metrics.precision_score(y_test, final_predictions))\n",
        "print(\"Recall: \",metrics.recall_score(y_test, final_predictions))"
      ],
      "metadata": {
        "colab": {
          "base_uri": "https://localhost:8080/"
        },
        "id": "jWawlMXnQjKi",
        "outputId": "f64b48d2-6e77-4ade-ef40-26ccaa3cd4cb"
      },
      "execution_count": null,
      "outputs": [
        {
          "output_type": "stream",
          "name": "stdout",
          "text": [
            "Accuracy:  0.9714285714285714\n",
            "Precision:  0.9473684210526315\n",
            "Recall:  1.0\n"
          ]
        }
      ]
    },
    {
      "cell_type": "code",
      "source": [
        "from sklearn.metrics import confusion_matrix, classification_report\n",
        "import seaborn as sns\n",
        "import matplotlib.pyplot as plt\n",
        "\n",
        "def model_Evaluate(model, y_test, final_predictions):\n",
        "  print(classification_report(y_test, final_predictions))\n",
        "model_Evaluate(final_model, y_test, final_predictions)"
      ],
      "metadata": {
        "colab": {
          "base_uri": "https://localhost:8080/"
        },
        "id": "fNTksN8BQkK4",
        "outputId": "e99ca3fb-0be4-45df-cc95-13ed075c952e"
      },
      "execution_count": null,
      "outputs": [
        {
          "output_type": "stream",
          "name": "stdout",
          "text": [
            "              precision    recall  f1-score   support\n",
            "\n",
            "           0       1.00      0.94      0.97        17\n",
            "           1       0.95      1.00      0.97        18\n",
            "\n",
            "    accuracy                           0.97        35\n",
            "   macro avg       0.97      0.97      0.97        35\n",
            "weighted avg       0.97      0.97      0.97        35\n",
            "\n"
          ]
        }
      ]
    },
    {
      "cell_type": "markdown",
      "source": [
        "# StackingClassifier from sklearn"
      ],
      "metadata": {
        "id": "FC4uwkLmQwKM"
      }
    },
    {
      "cell_type": "code",
      "source": [
        "from sklearn.ensemble import StackingClassifier\n",
        "from sklearn.tree import DecisionTreeClassifier\n",
        "\n",
        "from sklearn.model_selection import train_test_split\n",
        "from sklearn.datasets import load_breast_cancer\n",
        "\n",
        "X, y = load_breast_cancer(return_X_y=True)\n",
        "\n",
        "data=load_breast_cancer()\n",
        "data_df = pd.DataFrame(data = data.data,\n",
        "                       columns = data.feature_names)\n",
        "\n",
        "X_train, X_test, y_train, y_test = train_test_split(X, y, random_state=63, train_size=0.8)\n",
        "\n",
        "\n",
        "model1 = LogisticRegression(max_iter=100000)\n",
        "model2 = DecisionTreeClassifier()\n",
        "model3 = GaussianNB()\n",
        "\n",
        "print(y_test)\n",
        "# X_valid, X_test, y_valid, y_test = train_test_split(X_rem, y_rem, random_state=97, test_size=0.3)"
      ],
      "metadata": {
        "colab": {
          "base_uri": "https://localhost:8080/"
        },
        "id": "tFFVidCqQ3N0",
        "outputId": "d55cd9ec-fccc-4c58-a432-face09cbee13"
      },
      "execution_count": null,
      "outputs": [
        {
          "output_type": "stream",
          "name": "stdout",
          "text": [
            "[1 0 1 1 0 0 1 0 0 0 0 0 1 0 0 1 1 0 1 0 0 0 1 1 1 0 1 0 0 1 1 1 0 0 1 1 1\n",
            " 0 1 1 0 1 1 1 1 1 1 1 0 1 0 1 1 1 1 1 0 1 1 0 0 1 0 1 0 0 0 1 0 1 1 0 0 0\n",
            " 1 1 0 1 0 1 1 0 1 0 0 1 1 0 1 1 0 1 1 0 0 1 0 1 1 1 1 1 1 1 0 0 1 1 1 0 0\n",
            " 0 0 1]\n"
          ]
        }
      ]
    },
    {
      "cell_type": "code",
      "source": [
        "estimators = [\n",
        "     ('lr', model1),\n",
        "     ('cart', model2),\n",
        "     ('bayes', model3)\n",
        "]\n",
        "\n",
        "final_model = LogisticRegression(max_iter=100000)\n",
        "sclf = StackingClassifier(estimators=estimators,\n",
        "                            final_estimator=final_model,\n",
        "                            cv=10)\n",
        "\n"
      ],
      "metadata": {
        "id": "3Ifj9uQlRZ9P"
      },
      "execution_count": null,
      "outputs": []
    },
    {
      "cell_type": "code",
      "source": [
        "#Fit Bagging Classifier on Cancer Dataset\n",
        "sclf.fit(X_train, y_train)"
      ],
      "metadata": {
        "colab": {
          "base_uri": "https://localhost:8080/"
        },
        "id": "pYhrWV2GSELz",
        "outputId": "f654657a-3511-41a4-c3b4-d015f9c0f6d3"
      },
      "execution_count": null,
      "outputs": [
        {
          "output_type": "execute_result",
          "data": {
            "text/plain": [
              "StackingClassifier(cv=10,\n",
              "                   estimators=[('lr', LogisticRegression(max_iter=100000)),\n",
              "                               ('cart', DecisionTreeClassifier()),\n",
              "                               ('bayes', GaussianNB())],\n",
              "                   final_estimator=LogisticRegression(max_iter=100000))"
            ]
          },
          "metadata": {},
          "execution_count": 71
        }
      ]
    },
    {
      "cell_type": "code",
      "source": [
        "prediction = sclf.predict(X_test)"
      ],
      "metadata": {
        "id": "v-RakTqwSGTE"
      },
      "execution_count": null,
      "outputs": []
    },
    {
      "cell_type": "code",
      "source": [
        "print(\"Accuracy: \",sclf.score(X_test, y_test))\n",
        "print(\"Precision: \",metrics.precision_score( y_test, prediction))\n",
        "print(\"Accuracy: \",metrics.recall_score( y_test, prediction))\n",
        "\n",
        "# model_Evaluate(sclf, y_test, prediction)"
      ],
      "metadata": {
        "colab": {
          "base_uri": "https://localhost:8080/"
        },
        "id": "D7SWAOO0SHp_",
        "outputId": "7f11f1b0-bc8d-40d6-e61a-9108a7d0dda4"
      },
      "execution_count": null,
      "outputs": [
        {
          "output_type": "stream",
          "name": "stdout",
          "text": [
            "Accuracy:  0.9385964912280702\n",
            "Precision:  0.9253731343283582\n",
            "Accuracy:  0.96875\n"
          ]
        }
      ]
    },
    {
      "cell_type": "markdown",
      "source": [
        "## Bagging"
      ],
      "metadata": {
        "id": "9Dxp75FU9ECK"
      }
    },
    {
      "cell_type": "code",
      "source": [
        "# Using baggingClassfier\n",
        "from sklearn.ensemble import BaggingClassifier\n",
        "\n",
        "model_bagged = BaggingClassifier(max_features = 0.67).fit(X_train, y_train)\n",
        "\n",
        "y_pred_bagged = model_bagged.predict(X_test)\n",
        "\n",
        "print(\"Accuracy:\",metrics.accuracy_score(y_test, y_pred_bagged))\n",
        "print(\"Precision:\",metrics.precision_score(y_test,y_pred_bagged))\n",
        "print(\"Recall:\",metrics.recall_score(y_test,y_pred_bagged))\n",
        "print(\"F1 score:\",metrics.f1_score(y_test,y_pred_bagged))\n"
      ],
      "metadata": {
        "colab": {
          "base_uri": "https://localhost:8080/"
        },
        "id": "Lv122WH_9F-k",
        "outputId": "f47c7293-d00c-41cd-8e66-c2157a588d9b"
      },
      "execution_count": null,
      "outputs": [
        {
          "output_type": "stream",
          "name": "stdout",
          "text": [
            "Accuracy: 0.9473684210526315\n",
            "Precision: 0.953125\n",
            "Recall: 0.953125\n",
            "F1 score: 0.953125\n"
          ]
        }
      ]
    },
    {
      "cell_type": "code",
      "source": [
        "# using randomforestclassifier\n",
        "from sklearn.ensemble import RandomForestClassifier\n",
        "\n",
        "model_random_forest = RandomForestClassifier(n_estimators=100).fit(X_train, y_train)\n",
        "\n",
        "y_pred_random_forest = model_random_forest.predict(X_test)\n",
        "\n",
        "print(\"Accuracy:\",metrics.accuracy_score(y_test, y_pred_random_forest))\n",
        "print(\"Precision:\",metrics.precision_score(y_test,y_pred_random_forest))\n",
        "print(\"Recall:\",metrics.recall_score(y_test,y_pred_random_forest))\n",
        "print(\"F1 score:\",metrics.f1_score(y_test,y_pred_random_forest))"
      ],
      "metadata": {
        "colab": {
          "base_uri": "https://localhost:8080/"
        },
        "id": "L0o58DE89mEs",
        "outputId": "0fe19a06-52fb-414c-bf16-ad73f1ed73bc"
      },
      "execution_count": null,
      "outputs": [
        {
          "output_type": "stream",
          "name": "stdout",
          "text": [
            "Accuracy: 0.956140350877193\n",
            "Precision: 0.9402985074626866\n",
            "Recall: 0.984375\n",
            "F1 score: 0.9618320610687023\n"
          ]
        }
      ]
    },
    {
      "cell_type": "markdown",
      "source": [
        "# Adaboost Algorithm"
      ],
      "metadata": {
        "id": "15q5Hmu6SIpU"
      }
    },
    {
      "cell_type": "code",
      "source": [
        "from sklearn.ensemble import AdaBoostClassifier\n",
        "from sklearn.tree import DecisionTreeClassifier\n",
        "\n",
        "from sklearn.model_selection import train_test_split\n",
        "from sklearn.datasets import load_breast_cancer\n",
        "\n",
        "X, y = load_breast_cancer(return_X_y=True)\n",
        "\n",
        "data=load_breast_cancer()\n",
        "data_df = pd.DataFrame(data = data.data,\n",
        "                       columns = data.feature_names)\n",
        "\n",
        "X_train, X_test, y_train, y_test = train_test_split(X, y, random_state=97, train_size=0.8)\n",
        "\n",
        "\n",
        "model1 = LogisticRegression(max_iter=100000)\n",
        "model2 = DecisionTreeClassifier()\n",
        "model3 = GaussianNB()\n",
        "\n",
        "estimators = [\n",
        "     ('lr', model1),\n",
        "     ('cart', model2),\n",
        "     ('bayes', model3)\n",
        "]"
      ],
      "metadata": {
        "id": "LkrGXMV1SL6P"
      },
      "execution_count": null,
      "outputs": []
    },
    {
      "cell_type": "code",
      "source": [
        "abc = AdaBoostClassifier(learning_rate=0.1)\n",
        "abc.fit(X_train, y_train)"
      ],
      "metadata": {
        "colab": {
          "base_uri": "https://localhost:8080/"
        },
        "id": "FrS9BxCcSNV_",
        "outputId": "af0326be-ef47-4f32-bfe5-4c102e30fc47"
      },
      "execution_count": null,
      "outputs": [
        {
          "output_type": "execute_result",
          "data": {
            "text/plain": [
              "AdaBoostClassifier(learning_rate=0.1)"
            ]
          },
          "metadata": {},
          "execution_count": 77
        }
      ]
    },
    {
      "cell_type": "code",
      "source": [
        "prediction = abc.predict(X_test)"
      ],
      "metadata": {
        "id": "KT99gvDqSOd-"
      },
      "execution_count": null,
      "outputs": []
    },
    {
      "cell_type": "code",
      "source": [
        "from sklearn import metrics\n",
        "\n",
        "print(\"Accuracy: \",abc.score(X_test, y_test))\n",
        "print(\"Precision: \",metrics.precision_score(y_test, prediction))\n",
        "print(\"Recall: \",metrics.recall_score( y_test, prediction))\n",
        "\n",
        "# model_Evaluate(abc, y_test, prediction)"
      ],
      "metadata": {
        "colab": {
          "base_uri": "https://localhost:8080/"
        },
        "id": "2LPXyM5-SPlm",
        "outputId": "4b5e7ba1-d06f-403c-befb-c5e101bb1643"
      },
      "execution_count": null,
      "outputs": [
        {
          "output_type": "stream",
          "name": "stdout",
          "text": [
            "Accuracy:  0.9649122807017544\n",
            "Precision:  0.9565217391304348\n",
            "Recall:  0.9850746268656716\n"
          ]
        }
      ]
    },
    {
      "cell_type": "markdown",
      "source": [
        "# Adaboost \n",
        "Dataset : concrete_data.csv"
      ],
      "metadata": {
        "id": "WRH-jmSMSQdH"
      }
    },
    {
      "cell_type": "code",
      "source": [
        "from google.colab import drive\n",
        "drive.mount('/content/drive')"
      ],
      "metadata": {
        "colab": {
          "base_uri": "https://localhost:8080/"
        },
        "id": "2pmKk_ViShyb",
        "outputId": "81efed10-40d6-4e87-989a-682baf5ba3b0"
      },
      "execution_count": null,
      "outputs": [
        {
          "output_type": "stream",
          "name": "stdout",
          "text": [
            "Drive already mounted at /content/drive; to attempt to forcibly remount, call drive.mount(\"/content/drive\", force_remount=True).\n"
          ]
        }
      ]
    },
    {
      "cell_type": "code",
      "source": [
        "datasets = pd.read_csv('/content/drive/MyDrive/SEM-VI/ML/Contrete.csv')\n"
      ],
      "metadata": {
        "id": "HClQApQ0Sym0"
      },
      "execution_count": null,
      "outputs": []
    },
    {
      "cell_type": "code",
      "source": [
        "X = datasets.iloc[:, :-1].values\n",
        "\n",
        "# Only last column, 0 for 1st column and -1 for last colum,-2 for 2nd last column\n",
        "y = datasets.iloc[:, -1].values\n",
        "print(\"\\n\\nInput : \\n\", X)\n",
        "print(\"\\n\\nOutput: \\n\", y)"
      ],
      "metadata": {
        "colab": {
          "base_uri": "https://localhost:8080/"
        },
        "id": "WLzisEYSTEEO",
        "outputId": "3b1460a6-0cc5-4300-f433-b3dfc56349ba"
      },
      "execution_count": null,
      "outputs": [
        {
          "output_type": "stream",
          "name": "stdout",
          "text": [
            "\n",
            "\n",
            "Input : \n",
            " [[ 540.     0.     0.  ... 1040.   676.    28. ]\n",
            " [ 540.     0.     0.  ... 1055.   676.    28. ]\n",
            " [ 332.5  142.5    0.  ...  932.   594.   270. ]\n",
            " ...\n",
            " [ 148.5  139.4  108.6 ...  892.4  780.    28. ]\n",
            " [ 159.1  186.7    0.  ...  989.6  788.9   28. ]\n",
            " [ 260.9  100.5   78.3 ...  864.5  761.5   28. ]]\n",
            "\n",
            "\n",
            "Output: \n",
            " [79.99 61.89 40.27 ... 23.7  32.77 32.4 ]\n"
          ]
        }
      ]
    },
    {
      "cell_type": "code",
      "source": [
        "from sklearn.model_selection import train_test_split\n",
        "\n",
        "#split data set into train and test sets\n",
        "X_train, X_test, y_train, y_test = train_test_split(datasets, y, test_size = 0.25, random_state = 63)\n",
        "\n",
        "# print(y_test)"
      ],
      "metadata": {
        "id": "26qNzf7jTF2-"
      },
      "execution_count": null,
      "outputs": []
    },
    {
      "cell_type": "code",
      "source": [
        "from sklearn.ensemble import AdaBoostRegressor\n",
        "from sklearn.tree import DecisionTreeRegressor\n",
        "\n",
        " \n",
        "#Choosing Decision Tree with 1 level as the weak learner\n",
        "DTR=DecisionTreeRegressor(max_depth=1)\n",
        "RegModel = AdaBoostRegressor(n_estimators=50, base_estimator=DTR ,learning_rate=1)"
      ],
      "metadata": {
        "id": "jPYzaCm9TIMa"
      },
      "execution_count": null,
      "outputs": []
    },
    {
      "cell_type": "code",
      "source": [
        "#Creating the model on Training Data\n",
        "\n",
        "AB=RegModel.fit(X_train,y_train)\n",
        "y_pred=AB.predict(X_test)\n"
      ],
      "metadata": {
        "id": "CPnWI3ZCTLLq"
      },
      "execution_count": null,
      "outputs": []
    },
    {
      "cell_type": "code",
      "source": [
        "#Import scikit-learn metrics module for accuracy calculation\n",
        "from sklearn import metrics\n",
        "# model_Evaluate(AB, y_test, predictions) --> doesn't work for continuous values\n",
        "print(\"Accuracy: \",RegModel.score(X_test, y_test))"
      ],
      "metadata": {
        "colab": {
          "base_uri": "https://localhost:8080/"
        },
        "id": "OFcEcMxuTMK5",
        "outputId": "3e577011-f68e-4c8f-e308-0a6f9714553b"
      },
      "execution_count": null,
      "outputs": [
        {
          "output_type": "stream",
          "name": "stdout",
          "text": [
            "Accuracy:  0.7370684205109391\n"
          ]
        }
      ]
    },
    {
      "cell_type": "code",
      "source": [
        "from sklearn.datasets import load_diabetes\n",
        "from sklearn.model_selection import train_test_split\n",
        "\n",
        "X,y = load_diabetes(return_X_y=True)\n",
        "\n",
        "#split data set into train and test sets\n",
        "X_train, X_test, y_train, y_test = train_test_split(X, y, test_size = 0.20, random_state = 63)\n",
        "\n",
        "\n",
        "from sklearn.ensemble import AdaBoostRegressor\n",
        "from sklearn.tree import DecisionTreeRegressor\n",
        "\n",
        " \n",
        "#Choosing Decision Tree with 1 level as the weak learner\n",
        "DTR=DecisionTreeRegressor(max_depth=10)\n",
        "RegModel = AdaBoostRegressor(n_estimators=100, base_estimator=DTR ,learning_rate=1)\n",
        "\n",
        "AB=RegModel.fit(X_train,y_train)\n",
        "y_pred=AB.predict(X_test)\n",
        "\n",
        "from sklearn import metrics\n",
        "from sklearn.metrics import mean_squared_error\n",
        "# model_Evaluate(AB, y_test, predictions) --> doesn't work for continuous values\n",
        "print(\"Accuracy: \",RegModel.score(X_test, y_test))\n",
        "\n",
        "print(\"Mean Square Error: \",mean_squared_error(y_test,y_pred))"
      ],
      "metadata": {
        "colab": {
          "base_uri": "https://localhost:8080/"
        },
        "id": "7nSkY3uXTPIk",
        "outputId": "ab9f38d0-deb7-4f31-ef44-9552eb1cc559"
      },
      "execution_count": null,
      "outputs": [
        {
          "output_type": "stream",
          "name": "stdout",
          "text": [
            "Accuracy:  0.23651909840777174\n",
            "Mean Square Error:  4035.287171519938\n"
          ]
        }
      ]
    },
    {
      "cell_type": "code",
      "source": [],
      "metadata": {
        "id": "0JjwvURGTSxI"
      },
      "execution_count": null,
      "outputs": []
    }
  ]
}