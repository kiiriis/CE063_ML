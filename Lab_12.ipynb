{
  "nbformat": 4,
  "nbformat_minor": 0,
  "metadata": {
    "colab": {
      "provenance": [],
      "authorship_tag": "ABX9TyO3KCKl7ZWtigRkHy4puMg/",
      "include_colab_link": true
    },
    "kernelspec": {
      "name": "python3",
      "display_name": "Python 3"
    },
    "language_info": {
      "name": "python"
    },
    "accelerator": "GPU",
    "gpuClass": "standard"
  },
  "cells": [
    {
      "cell_type": "markdown",
      "metadata": {
        "id": "view-in-github",
        "colab_type": "text"
      },
      "source": [
        "<a href=\"https://colab.research.google.com/github/kiiriis/CE063_ML/blob/main/Lab_12.ipynb\" target=\"_parent\"><img src=\"https://colab.research.google.com/assets/colab-badge.svg\" alt=\"Open In Colab\"/></a>"
      ]
    },
    {
      "cell_type": "code",
      "execution_count": 1,
      "metadata": {
        "id": "-iMkR1HHSFZ-"
      },
      "outputs": [],
      "source": [
        "# Import Libraries\n",
        "import matplotlib.pyplot as plt\n",
        "import numpy as np\n",
        "import pandas as pd\n",
        "from keras.layers import Dense, Flatten\n",
        "import torch\n",
        "import torch.nn as nn\n",
        "from torch.autograd import Variable\n",
        "from torch.utils.data import DataLoader\n",
        "import tensorflow\n",
        "from keras.utils import to_categorical\n",
        "from sklearn.model_selection import train_test_split\n",
        "from keras.models import Sequential"
      ]
    },
    {
      "cell_type": "code",
      "source": [
        "from keras.datasets import mnist\n",
        "\n",
        "(features_train, targets_train), (features_test, targets_test) = mnist.load_data()"
      ],
      "metadata": {
        "colab": {
          "base_uri": "https://localhost:8080/"
        },
        "id": "yxkJQXyNSu2R",
        "outputId": "c0278433-7243-4bec-f815-c063020148d7"
      },
      "execution_count": 2,
      "outputs": [
        {
          "output_type": "stream",
          "name": "stdout",
          "text": [
            "Downloading data from https://storage.googleapis.com/tensorflow/tf-keras-datasets/mnist.npz\n",
            "11490434/11490434 [==============================] - 2s 0us/step\n"
          ]
        }
      ]
    },
    {
      "cell_type": "code",
      "source": [
        "print(features_train.shape, targets_train.shape, features_test.shape, targets_test.shape)\n"
      ],
      "metadata": {
        "colab": {
          "base_uri": "https://localhost:8080/"
        },
        "id": "bdbJRBbfSvtJ",
        "outputId": "59e67f35-df86-4df0-b1b6-74ef7da3ea08"
      },
      "execution_count": 3,
      "outputs": [
        {
          "output_type": "stream",
          "name": "stdout",
          "text": [
            "(60000, 28, 28) (60000,) (10000, 28, 28) (10000,)\n"
          ]
        }
      ]
    },
    {
      "cell_type": "code",
      "source": [
        "X_train = features_train\n",
        "y_train = targets_train\n",
        "X_test = features_test\n",
        "y_test = targets_test"
      ],
      "metadata": {
        "id": "I-3x9T-NSxEp"
      },
      "execution_count": 4,
      "outputs": []
    },
    {
      "cell_type": "code",
      "source": [
        "# Display some images\n",
        "fig, axes = plt.subplots(ncols=5, sharex=False, \n",
        "    sharey=True, figsize=(10, 4))\n",
        "for i in range(5):\n",
        "    axes[i].set_title(y_train[i])\n",
        "    axes[i].imshow(X_train[i], cmap='gray')\n",
        "    axes[i].get_xaxis().set_visible(False)\n",
        "    axes[i].get_yaxis().set_visible(False)\n",
        "plt.show()"
      ],
      "metadata": {
        "colab": {
          "base_uri": "https://localhost:8080/",
          "height": 143
        },
        "id": "WERzCST3Sxz5",
        "outputId": "5d7de4b6-f948-4c1f-c7f3-294c35ed5be9"
      },
      "execution_count": 5,
      "outputs": [
        {
          "output_type": "display_data",
          "data": {
            "text/plain": [
              "<Figure size 720x288 with 5 Axes>"
            ],
            "image/png": "[encoded data removed]"
          },
          "metadata": {
            "needs_background": "light"
          }
        }
      ]
    },
    {
      "cell_type": "code",
      "source": [
        "to_categorical(3, num_classes=10)"
      ],
      "metadata": {
        "colab": {
          "base_uri": "https://localhost:8080/"
        },
        "id": "mbHWCzuBSzAo",
        "outputId": "4bc1bbc1-7631-4f60-fc9a-6b2174091ded"
      },
      "execution_count": 6,
      "outputs": [
        {
          "output_type": "execute_result",
          "data": {
            "text/plain": [
              "array([0., 0., 0., 1., 0., 0., 0., 0., 0., 0.], dtype=float32)"
            ]
          },
          "metadata": {},
          "execution_count": 6
        }
      ]
    },
    {
      "cell_type": "code",
      "source": [
        "# Convert y_train into one-hot format\n",
        "temp = []\n",
        "for i in range(len(y_train)):\n",
        "    temp.append(to_categorical(y_train[i], num_classes=10))\n",
        "y_train = np.array(temp)\n",
        "# Convert y_test into one-hot format\n",
        "temp = []\n",
        "for i in range(len(y_test)):    \n",
        "    temp.append(to_categorical(y_test[i], num_classes=10))\n",
        "y_test = np.array(temp)"
      ],
      "metadata": {
        "id": "eRbqBo5HS0Jw"
      },
      "execution_count": 7,
      "outputs": []
    },
    {
      "cell_type": "code",
      "source": [
        "print(y_train.shape)\n",
        "print(y_test.shape)"
      ],
      "metadata": {
        "colab": {
          "base_uri": "https://localhost:8080/"
        },
        "id": "V61y0LZHS1EA",
        "outputId": "0b8a3f16-0d3f-425d-86da-cde21f4e8f1c"
      },
      "execution_count": 8,
      "outputs": [
        {
          "output_type": "stream",
          "name": "stdout",
          "text": [
            "(60000, 10)\n",
            "(10000, 10)\n"
          ]
        }
      ]
    },
    {
      "cell_type": "code",
      "source": [
        "# Create simple Neural Network model\n",
        "model = Sequential()\n",
        "model.add(Flatten(input_shape=(28,28)))\n",
        "model.add(Dense(5, activation='sigmoid'))\n",
        "model.add(Dense(10, activation='softmax'))"
      ],
      "metadata": {
        "id": "CdEirejeS2IA"
      },
      "execution_count": 9,
      "outputs": []
    },
    {
      "cell_type": "code",
      "source": [
        "model.summary()"
      ],
      "metadata": {
        "colab": {
          "base_uri": "https://localhost:8080/"
        },
        "id": "ilOJMlfGS3Lg",
        "outputId": "1c15d3da-0043-4f74-bdea-524520a26199"
      },
      "execution_count": 10,
      "outputs": [
        {
          "output_type": "stream",
          "name": "stdout",
          "text": [
            "Model: \"sequential\"\n",
            "_________________________________________________________________\n",
            " Layer (type)                Output Shape              Param #   \n",
            "=================================================================\n",
            " flatten (Flatten)           (None, 784)               0         \n",
            "                                                                 \n",
            " dense (Dense)               (None, 5)                 3925      \n",
            "                                                                 \n",
            " dense_1 (Dense)             (None, 10)                60        \n",
            "                                                                 \n",
            "=================================================================\n",
            "Total params: 3,985\n",
            "Trainable params: 3,985\n",
            "Non-trainable params: 0\n",
            "_________________________________________________________________\n"
          ]
        }
      ]
    },
    {
      "cell_type": "code",
      "source": [
        "model.compile(loss='categorical_crossentropy', \n",
        "              optimizer='adam',\n",
        "              metrics=['acc'])"
      ],
      "metadata": {
        "id": "gALG7RZaS4O4"
      },
      "execution_count": 11,
      "outputs": []
    },
    {
      "cell_type": "code",
      "source": [
        "model.fit(X_train, y_train, epochs=50, \n",
        "          validation_data=(X_test,y_test))"
      ],
      "metadata": {
        "colab": {
          "base_uri": "https://localhost:8080/"
        },
        "id": "hnzD1h6DS5VB",
        "outputId": "c2f8ef10-c69d-427d-b2d3-8da17fc91a1a"
      },
      "execution_count": 12,
      "outputs": [
        {
          "output_type": "stream",
          "name": "stdout",
          "text": [
            "Epoch 1/50\n",
            "1875/1875 [==============================] - 10s 3ms/step - loss: 1.6263 - acc: 0.5098 - val_loss: 1.2160 - val_acc: 0.6724\n",
            "Epoch 2/50\n",
            "1875/1875 [==============================] - 5s 3ms/step - loss: 1.1250 - acc: 0.6596 - val_loss: 0.9726 - val_acc: 0.6968\n",
            "Epoch 3/50\n",
            "1875/1875 [==============================] - 6s 3ms/step - loss: 0.9801 - acc: 0.6800 - val_loss: 0.9878 - val_acc: 0.6681\n",
            "Epoch 4/50\n",
            "1875/1875 [==============================] - 5s 3ms/step - loss: 0.9069 - acc: 0.6999 - val_loss: 0.8564 - val_acc: 0.7221\n",
            "Epoch 5/50\n",
            "1875/1875 [==============================] - 6s 3ms/step - loss: 0.8752 - acc: 0.7203 - val_loss: 0.8280 - val_acc: 0.7472\n",
            "Epoch 6/50\n",
            "1875/1875 [==============================] - 5s 3ms/step - loss: 0.8469 - acc: 0.7336 - val_loss: 0.9263 - val_acc: 0.6957\n",
            "Epoch 7/50\n",
            "1875/1875 [==============================] - 6s 3ms/step - loss: 0.8146 - acc: 0.7442 - val_loss: 0.8226 - val_acc: 0.7460\n",
            "Epoch 8/50\n",
            "1875/1875 [==============================] - 6s 3ms/step - loss: 0.8079 - acc: 0.7442 - val_loss: 0.7605 - val_acc: 0.7628\n",
            "Epoch 9/50\n",
            "1875/1875 [==============================] - 6s 3ms/step - loss: 0.7975 - acc: 0.7526 - val_loss: 0.7580 - val_acc: 0.7683\n",
            "Epoch 10/50\n",
            "1875/1875 [==============================] - 5s 3ms/step - loss: 0.7827 - acc: 0.7531 - val_loss: 0.7970 - val_acc: 0.7537\n",
            "Epoch 11/50\n",
            "1875/1875 [==============================] - 6s 3ms/step - loss: 0.7827 - acc: 0.7526 - val_loss: 0.7572 - val_acc: 0.7767\n",
            "Epoch 12/50\n",
            "1875/1875 [==============================] - 5s 3ms/step - loss: 0.7546 - acc: 0.7727 - val_loss: 0.7244 - val_acc: 0.7902\n",
            "Epoch 13/50\n",
            "1875/1875 [==============================] - 6s 3ms/step - loss: 0.7548 - acc: 0.7759 - val_loss: 0.7699 - val_acc: 0.7690\n",
            "Epoch 14/50\n",
            "1875/1875 [==============================] - 6s 3ms/step - loss: 0.7454 - acc: 0.7815 - val_loss: 0.7574 - val_acc: 0.7810\n",
            "Epoch 15/50\n",
            "1875/1875 [==============================] - 5s 3ms/step - loss: 0.7807 - acc: 0.7696 - val_loss: 0.7365 - val_acc: 0.7850\n",
            "Epoch 16/50\n",
            "1875/1875 [==============================] - 6s 3ms/step - loss: 0.7784 - acc: 0.7687 - val_loss: 0.7447 - val_acc: 0.7673\n",
            "Epoch 17/50\n",
            "1875/1875 [==============================] - 5s 3ms/step - loss: 0.7356 - acc: 0.7849 - val_loss: 0.7260 - val_acc: 0.7880\n",
            "Epoch 18/50\n",
            "1875/1875 [==============================] - 6s 3ms/step - loss: 0.7309 - acc: 0.7851 - val_loss: 0.7044 - val_acc: 0.7962\n",
            "Epoch 19/50\n",
            "1875/1875 [==============================] - 5s 3ms/step - loss: 0.7317 - acc: 0.7907 - val_loss: 0.7041 - val_acc: 0.8028\n",
            "Epoch 20/50\n",
            "1875/1875 [==============================] - 6s 3ms/step - loss: 0.7074 - acc: 0.7940 - val_loss: 0.6882 - val_acc: 0.8010\n",
            "Epoch 21/50\n",
            "1875/1875 [==============================] - 5s 3ms/step - loss: 0.7169 - acc: 0.7961 - val_loss: 0.7580 - val_acc: 0.7776\n",
            "Epoch 22/50\n",
            "1875/1875 [==============================] - 6s 3ms/step - loss: 0.7178 - acc: 0.7964 - val_loss: 0.6900 - val_acc: 0.8096\n",
            "Epoch 23/50\n",
            "1875/1875 [==============================] - 5s 3ms/step - loss: 0.6916 - acc: 0.8061 - val_loss: 0.6690 - val_acc: 0.8160\n",
            "Epoch 24/50\n",
            "1875/1875 [==============================] - 6s 3ms/step - loss: 0.6976 - acc: 0.8063 - val_loss: 0.6881 - val_acc: 0.8128\n",
            "Epoch 25/50\n",
            "1875/1875 [==============================] - 5s 3ms/step - loss: 0.6875 - acc: 0.8107 - val_loss: 0.6587 - val_acc: 0.8196\n",
            "Epoch 26/50\n",
            "1875/1875 [==============================] - 5s 3ms/step - loss: 0.6964 - acc: 0.8072 - val_loss: 0.6757 - val_acc: 0.8129\n",
            "Epoch 27/50\n",
            "1875/1875 [==============================] - 6s 3ms/step - loss: 0.6992 - acc: 0.8112 - val_loss: 0.6781 - val_acc: 0.8060\n",
            "Epoch 28/50\n",
            "1875/1875 [==============================] - 5s 3ms/step - loss: 0.6926 - acc: 0.8119 - val_loss: 0.6843 - val_acc: 0.8139\n",
            "Epoch 29/50\n",
            "1875/1875 [==============================] - 6s 3ms/step - loss: 0.6906 - acc: 0.8085 - val_loss: 0.6666 - val_acc: 0.8231\n",
            "Epoch 30/50\n",
            "1875/1875 [==============================] - 5s 3ms/step - loss: 0.6650 - acc: 0.8197 - val_loss: 0.6392 - val_acc: 0.8303\n",
            "Epoch 31/50\n",
            "1875/1875 [==============================] - 6s 3ms/step - loss: 0.6586 - acc: 0.8148 - val_loss: 0.6654 - val_acc: 0.8185\n",
            "Epoch 32/50\n",
            "1875/1875 [==============================] - 5s 3ms/step - loss: 0.6909 - acc: 0.8086 - val_loss: 0.6568 - val_acc: 0.8167\n",
            "Epoch 33/50\n",
            "1875/1875 [==============================] - 6s 3ms/step - loss: 0.6755 - acc: 0.8159 - val_loss: 0.6727 - val_acc: 0.8232\n",
            "Epoch 34/50\n",
            "1875/1875 [==============================] - 5s 3ms/step - loss: 0.6688 - acc: 0.8211 - val_loss: 0.6387 - val_acc: 0.8230\n",
            "Epoch 35/50\n",
            "1875/1875 [==============================] - 6s 3ms/step - loss: 0.6708 - acc: 0.8198 - val_loss: 0.7084 - val_acc: 0.8051\n",
            "Epoch 36/50\n",
            "1875/1875 [==============================] - 6s 3ms/step - loss: 0.6739 - acc: 0.8183 - val_loss: 0.6905 - val_acc: 0.8065\n",
            "Epoch 37/50\n",
            "1875/1875 [==============================] - 5s 3ms/step - loss: 0.6639 - acc: 0.8232 - val_loss: 0.6298 - val_acc: 0.8388\n",
            "Epoch 38/50\n",
            "1875/1875 [==============================] - 6s 3ms/step - loss: 0.6701 - acc: 0.8183 - val_loss: 0.6803 - val_acc: 0.8210\n",
            "Epoch 39/50\n",
            "1875/1875 [==============================] - 5s 3ms/step - loss: 0.6659 - acc: 0.8194 - val_loss: 0.6182 - val_acc: 0.8361\n",
            "Epoch 40/50\n",
            "1875/1875 [==============================] - 6s 3ms/step - loss: 0.6477 - acc: 0.8254 - val_loss: 0.6650 - val_acc: 0.8166\n",
            "Epoch 41/50\n",
            "1875/1875 [==============================] - 5s 3ms/step - loss: 0.6525 - acc: 0.8242 - val_loss: 0.6397 - val_acc: 0.8334\n",
            "Epoch 42/50\n",
            "1875/1875 [==============================] - 6s 3ms/step - loss: 0.6772 - acc: 0.8156 - val_loss: 0.7249 - val_acc: 0.7991\n",
            "Epoch 43/50\n",
            "1875/1875 [==============================] - 5s 3ms/step - loss: 0.6717 - acc: 0.8181 - val_loss: 0.6295 - val_acc: 0.8347\n",
            "Epoch 44/50\n",
            "1875/1875 [==============================] - 6s 3ms/step - loss: 0.6634 - acc: 0.8200 - val_loss: 0.6358 - val_acc: 0.8295\n",
            "Epoch 45/50\n",
            "1875/1875 [==============================] - 5s 3ms/step - loss: 0.6600 - acc: 0.8240 - val_loss: 0.6653 - val_acc: 0.8224\n",
            "Epoch 46/50\n",
            "1875/1875 [==============================] - 6s 3ms/step - loss: 0.6636 - acc: 0.8216 - val_loss: 0.6440 - val_acc: 0.8290\n",
            "Epoch 47/50\n",
            "1875/1875 [==============================] - 5s 3ms/step - loss: 0.6527 - acc: 0.8264 - val_loss: 0.7017 - val_acc: 0.8123\n",
            "Epoch 48/50\n",
            "1875/1875 [==============================] - 6s 3ms/step - loss: 0.6660 - acc: 0.8230 - val_loss: 0.6493 - val_acc: 0.8280\n",
            "Epoch 49/50\n",
            "1875/1875 [==============================] - 5s 3ms/step - loss: 0.6659 - acc: 0.8245 - val_loss: 0.6377 - val_acc: 0.8341\n",
            "Epoch 50/50\n",
            "1875/1875 [==============================] - 6s 3ms/step - loss: 0.6516 - acc: 0.8285 - val_loss: 0.6348 - val_acc: 0.8308\n"
          ]
        },
        {
          "output_type": "execute_result",
          "data": {
            "text/plain": [
              "<keras.callbacks.History at 0x7f7c6a4f54f0>"
            ]
          },
          "metadata": {},
          "execution_count": 12
        }
      ]
    },
    {
      "cell_type": "code",
      "source": [
        "predictions = model.predict(X_test)\n",
        "print(predictions)"
      ],
      "metadata": {
        "colab": {
          "base_uri": "https://localhost:8080/"
        },
        "id": "uPOngzH3S6KI",
        "outputId": "bff162e3-d225-4c93-cca2-9e35a378881c"
      },
      "execution_count": 13,
      "outputs": [
        {
          "output_type": "stream",
          "name": "stdout",
          "text": [
            "313/313 [==============================] - 1s 2ms/step\n",
            "[[5.1415394e-05 9.4556698e-04 3.8622643e-03 ... 9.3470466e-01\n",
            "  5.9703767e-04 4.9082983e-02]\n",
            " [7.5200154e-04 6.1526410e-02 8.5012823e-01 ... 1.2289202e-03\n",
            "  2.1691276e-03 2.4959110e-05]\n",
            " [5.3315744e-06 9.6276689e-01 2.7823640e-02 ... 2.7226384e-03\n",
            "  4.0128985e-03 4.7695150e-05]\n",
            " ...\n",
            " [1.1296658e-03 5.1230560e-05 2.9919706e-03 ... 1.2424232e-02\n",
            "  2.9687323e-03 7.8666843e-02]\n",
            " [1.7041883e-02 2.9416909e-03 3.2157425e-03 ... 6.6944433e-04\n",
            "  3.3162048e-01 1.5029574e-02]\n",
            " [1.9247683e-02 3.9548979e-07 1.1043161e-02 ... 6.7743624e-04\n",
            "  1.9384899e-04 4.9729282e-03]]\n"
          ]
        }
      ]
    },
    {
      "cell_type": "code",
      "source": [
        "predictions = np.argmax(predictions, axis=1)\n",
        "print(predictions)"
      ],
      "metadata": {
        "colab": {
          "base_uri": "https://localhost:8080/"
        },
        "id": "lpDNndq3S7bZ",
        "outputId": "f91c232e-48a4-4da9-f710-e09bef54655a"
      },
      "execution_count": 14,
      "outputs": [
        {
          "output_type": "stream",
          "name": "stdout",
          "text": [
            "[7 2 1 ... 4 5 6]\n"
          ]
        }
      ]
    },
    {
      "cell_type": "code",
      "source": [
        "fig, axes = plt.subplots(ncols=10, sharex=False,\n",
        "                         sharey=True, figsize=(20, 4))\n",
        "for i in range(10):\n",
        "    axes[i].set_title(predictions[i])\n",
        "    axes[i].imshow(X_test[i], cmap='gray')\n",
        "    axes[i].get_xaxis().set_visible(False)\n",
        "    axes[i].get_yaxis().set_visible(False)\n",
        "plt.show()"
      ],
      "metadata": {
        "colab": {
          "base_uri": "https://localhost:8080/",
          "height": 88
        },
        "id": "k1Mz-VhLS81o",
        "outputId": "af8400a3-870d-47a6-d8b6-e6694e6e8ae3"
      },
      "execution_count": 15,
      "outputs": [
        {
          "output_type": "display_data",
          "data": {
            "text/plain": [
              "<Figure size 1440x288 with 10 Axes>"
            ],
            "image/png": "[encoded data removed]"
          },
          "metadata": {
            "needs_background": "light"
          }
        }
      ]
    }
  ]
}