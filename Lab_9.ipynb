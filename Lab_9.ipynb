{
  "nbformat": 4,
  "nbformat_minor": 0,
  "metadata": {
    "colab": {
      "provenance": [],
      "include_colab_link": true
    },
    "kernelspec": {
      "name": "python3",
      "display_name": "Python 3"
    },
    "language_info": {
      "name": "python"
    }
  },
  "cells": [
    {
      "cell_type": "markdown",
      "metadata": {
        "id": "view-in-github",
        "colab_type": "text"
      },
      "source": [
        "<a href=\"https://colab.research.google.com/github/kiiriis/CE063_ML/blob/main/Lab_9.ipynb\" target=\"_parent\"><img src=\"https://colab.research.google.com/assets/colab-badge.svg\" alt=\"Open In Colab\"/></a>"
      ]
    },
    {
      "cell_type": "code",
      "execution_count": null,
      "metadata": {
        "id": "Fh12ITXMaQlG"
      },
      "outputs": [],
      "source": [
        "# Imports\n",
        "from sklearn.datasets import make_blobs\n",
        "import numpy as np\n",
        "\n",
        "X, _ = make_blobs(n_samples=100, centers=3, n_features=2,\n",
        "cluster_std=0.2, random_state=0)"
      ]
    },
    {
      "cell_type": "code",
      "source": [
        "plt.scatter(X[:, 0], X[:, 1], s=50);"
      ],
      "metadata": {
        "colab": {
          "base_uri": "https://localhost:8080/",
          "height": 265
        },
        "id": "oj6Pu8kciSE9",
        "outputId": "4e2109ae-5e29-4355-eaca-9df94319a483"
      },
      "execution_count": null,
      "outputs": [
        {
          "output_type": "display_data",
          "data": {
            "text/plain": [
              "<Figure size 432x288 with 1 Axes>"
            ],
            "image/png": "[encoded data removed]"
          },
          "metadata": {
            "needs_background": "light"
          }
        }
      ]
    },
    {
      "cell_type": "code",
      "source": [
        "# Scatter plot of the data points\n",
        "import matplotlib.pyplot as plt\n",
        "%matplotlib inline"
      ],
      "metadata": {
        "id": "FZE0Qw4Zb-21"
      },
      "execution_count": null,
      "outputs": []
    },
    {
      "cell_type": "code",
      "source": [
        "from sklearn.cluster import KMeans\n",
        "\n",
        "# Specify the number of clusters (3) and fit the data X\n",
        "kmeans = KMeans(n_clusters=3, random_state=0) \n",
        "\n",
        "kmeans.fit(X)"
      ],
      "metadata": {
        "colab": {
          "base_uri": "https://localhost:8080/"
        },
        "id": "N9HqEdgPcBTs",
        "outputId": "74e64c6d-b0a0-4b4a-fd51-9087c1c3da4d"
      },
      "execution_count": null,
      "outputs": [
        {
          "output_type": "execute_result",
          "data": {
            "text/plain": [
              "KMeans(n_clusters=3, random_state=0)"
            ]
          },
          "metadata": {},
          "execution_count": 92
        }
      ]
    },
    {
      "cell_type": "code",
      "source": [
        "# Get the cluster centroids\n",
        "kmeans.cluster_centers_"
      ],
      "metadata": {
        "colab": {
          "base_uri": "https://localhost:8080/"
        },
        "id": "BnOYqUx5esw2",
        "outputId": "fd1d2b40-a085-4dd3-eab2-d3ea582916a9"
      },
      "execution_count": null,
      "outputs": [
        {
          "output_type": "execute_result",
          "data": {
            "text/plain": [
              "array([[ 0.95164831,  4.28882085],\n",
              "       [ 2.0720792 ,  0.98848385],\n",
              "       [-1.538563  ,  2.91165191]])"
            ]
          },
          "metadata": {},
          "execution_count": 93
        }
      ]
    },
    {
      "cell_type": "code",
      "source": [
        "# Get the cluster labels\n",
        "kmeans.labels_"
      ],
      "metadata": {
        "colab": {
          "base_uri": "https://localhost:8080/"
        },
        "id": "B3wvlZj_fOj1",
        "outputId": "4b50031f-f164-467d-8133-e678d3ce40aa"
      },
      "execution_count": null,
      "outputs": [
        {
          "output_type": "execute_result",
          "data": {
            "text/plain": [
              "array([1, 0, 1, 0, 0, 0, 2, 2, 1, 0, 0, 0, 1, 0, 2, 1, 2, 0, 2, 2, 2, 2,\n",
              "       2, 0, 1, 1, 1, 1, 2, 2, 0, 1, 1, 0, 2, 2, 0, 1, 1, 2, 2, 1, 1, 0,\n",
              "       0, 0, 1, 1, 2, 2, 2, 1, 0, 1, 2, 2, 1, 1, 0, 1, 1, 2, 2, 2, 2, 1,\n",
              "       0, 2, 1, 0, 2, 0, 0, 1, 1, 0, 0, 0, 2, 1, 0, 0, 1, 0, 1, 0, 0, 0,\n",
              "       1, 0, 1, 1, 2, 2, 2, 2, 0, 0, 2, 2], dtype=int32)"
            ]
          },
          "metadata": {},
          "execution_count": 94
        }
      ]
    },
    {
      "cell_type": "code",
      "source": [
        "y_kmeans = kmeans.predict(X)"
      ],
      "metadata": {
        "id": "OJ_59IyIjwAM"
      },
      "execution_count": null,
      "outputs": []
    },
    {
      "cell_type": "code",
      "source": [
        "# Plotting the cluster centers and the data points on a 2D plane\n",
        "\n",
        "plt.scatter(X[:, 0], X[:, 1], c=y_kmeans, s=50, cmap='viridis')\n",
        "\n",
        "centers = kmeans.cluster_centers_\n",
        "plt.scatter(centers[:, 0], centers[:, 1], c='blue', s=200, alpha=0.5);"
      ],
      "metadata": {
        "colab": {
          "base_uri": "https://localhost:8080/",
          "height": 265
        },
        "id": "QqH-usw0f7e2",
        "outputId": "6ed670b0-9a06-4e39-c272-dd5f802b5007"
      },
      "execution_count": null,
      "outputs": [
        {
          "output_type": "display_data",
          "data": {
            "text/plain": [
              "<Figure size 432x288 with 1 Axes>"
            ],
            "image/png": "[encoded data removed]"
          },
          "metadata": {
            "needs_background": "light"
          }
        }
      ]
    },
    {
      "cell_type": "code",
      "source": [
        "# Calculate silhouette_score\n",
        "from sklearn.metrics import silhouette_score\n",
        "\n",
        "silhouette_score_average = silhouette_score(X, y_kmeans)\n",
        "print(silhouette_score_average)"
      ],
      "metadata": {
        "colab": {
          "base_uri": "https://localhost:8080/"
        },
        "id": "hNkb9uTTi_Wd",
        "outputId": "65052255-c6e6-4538-be1a-8cbadafcf72f"
      },
      "execution_count": null,
      "outputs": [
        {
          "output_type": "stream",
          "name": "stdout",
          "text": [
            "0.8816040239688525\n"
          ]
        }
      ]
    },
    {
      "cell_type": "code",
      "source": [
        "#  KElbowVisualizer method\n",
        "from yellowbrick.cluster import KElbowVisualizer, SilhouetteVisualizer\n",
        "\n",
        "elb_visualizer = KElbowVisualizer(kmeans, k=(2,11))\n",
        "elb_visualizer.fit(X)    \n",
        "elb_visualizer.show()  "
      ],
      "metadata": {
        "colab": {
          "base_uri": "https://localhost:8080/",
          "height": 311
        },
        "id": "_rpENHYMlCib",
        "outputId": "4da897bd-b22b-4e48-9c52-5f87e5d2547b"
      },
      "execution_count": null,
      "outputs": [
        {
          "output_type": "display_data",
          "data": {
            "text/plain": [
              "<Figure size 432x288 with 2 Axes>"
            ],
            "image/png": "[encoded data removed]"
          },
          "metadata": {}
        },
        {
          "output_type": "execute_result",
          "data": {
            "text/plain": [
              "<matplotlib.axes._subplots.AxesSubplot at 0x7fd1985c69d0>"
            ]
          },
          "metadata": {},
          "execution_count": 98
        }
      ]
    },
    {
      "cell_type": "code",
      "source": [
        "# SilhouetteVisualizer\n",
        "sil_visualizer = SilhouetteVisualizer(kmeans)\n",
        "sil_visualizer.fit(X)    \n",
        "sil_visualizer.show()"
      ],
      "metadata": {
        "colab": {
          "base_uri": "https://localhost:8080/",
          "height": 311
        },
        "id": "r-099AuRsYnF",
        "outputId": "51bd549e-c758-4848-da74-82079a20f732"
      },
      "execution_count": null,
      "outputs": [
        {
          "output_type": "display_data",
          "data": {
            "text/plain": [
              "<Figure size 432x288 with 1 Axes>"
            ],
            "image/png": "[encoded data removed]"
          },
          "metadata": {
            "needs_background": "light"
          }
        },
        {
          "output_type": "execute_result",
          "data": {
            "text/plain": [
              "<matplotlib.axes._subplots.AxesSubplot at 0x7fd1980a9790>"
            ]
          },
          "metadata": {},
          "execution_count": 99
        }
      ]
    },
    {
      "cell_type": "code",
      "source": [
        "import matplotlib.pyplot as plt\n",
        "import numpy as np\n",
        "from sklearn.cluster import KMeans\n",
        "#x = np.array([5,7,8,7,2,17,2,9,4,11,12,9,6])\n",
        "X1 = np.array([[1,2],[2,1],[3,4],[8,10],[3,7],[5,6], [2, 4], [7, 7]])\n",
        "#X1.shape()\n",
        "# X2 = np.array([2,3,4])\n",
        "plt.scatter(X1[:,0], X1[:,1])\n",
        "centroid = np.array([[1,2],[2,1],[8,10]])\n",
        "kmeans = KMeans(n_clusters=3, init=centroid).fit(X1)\n",
        "kmeans.cluster_centers_\n",
        "kmeans.labels_\n",
        "#print(\"Number of iterations \" , kmeans.n_iter_)\n",
        "kmeans.predict([[2,4]])"
      ],
      "metadata": {
        "colab": {
          "base_uri": "https://localhost:8080/",
          "height": 337
        },
        "id": "qJErXR-Plht8",
        "outputId": "8bfd810d-2aa3-4fb6-84ec-4258764f645a"
      },
      "execution_count": null,
      "outputs": [
        {
          "output_type": "stream",
          "name": "stderr",
          "text": [
            "/usr/local/lib/python3.8/dist-packages/sklearn/cluster/_kmeans.py:1146: RuntimeWarning: Explicit initial center position passed: performing only one init in KMeans instead of n_init=10.\n",
            "  self._check_params(X)\n"
          ]
        },
        {
          "output_type": "execute_result",
          "data": {
            "text/plain": [
              "array([0], dtype=int32)"
            ]
          },
          "metadata": {},
          "execution_count": 100
        },
        {
          "output_type": "display_data",
          "data": {
            "text/plain": [
              "<Figure size 432x288 with 1 Axes>"
            ],
            "image/png": "[encoded data removed]"
          },
          "metadata": {
            "needs_background": "light"
          }
        }
      ]
    },
    {
      "cell_type": "markdown",
      "source": [
        "# Hand Written Digit Recognition"
      ],
      "metadata": {
        "id": "KFGubXHPn8PM"
      }
    },
    {
      "cell_type": "code",
      "source": [
        "import numpy as np # linear algebra\n",
        "import pandas as pd # data processing, CSV file I/O (e.g. pd.read_csv)\n",
        "from sklearn.cluster import KMeans\n",
        "from sklearn.datasets import load_digits\n",
        "#digits dataset from scikit learn consists of 8x8 pixel images of digits\n",
        "#Data plotting and visualization libraries\n",
        "import matplotlib.pyplot as plt\n",
        "import seaborn as sns\n",
        "from scipy.stats import mode\n",
        "from sklearn.metrics import accuracy_score, confusion_matrix"
      ],
      "metadata": {
        "id": "ynrBN9iomtcq"
      },
      "execution_count": null,
      "outputs": []
    },
    {
      "cell_type": "code",
      "source": [
        "digits = load_digits() #load the dataset in digits"
      ],
      "metadata": {
        "id": "AL1ErgZ8n-m6"
      },
      "execution_count": null,
      "outputs": []
    },
    {
      "cell_type": "code",
      "source": [
        "#Dataset loaded is a dictionary\n",
        "print(digits.keys())"
      ],
      "metadata": {
        "colab": {
          "base_uri": "https://localhost:8080/"
        },
        "id": "AWOOJcNSoBYB",
        "outputId": "29b665fe-ea82-46d5-905f-8e6c6e4cd456"
      },
      "execution_count": null,
      "outputs": [
        {
          "output_type": "stream",
          "name": "stdout",
          "text": [
            "dict_keys(['data', 'target', 'frame', 'feature_names', 'target_names', 'images', 'DESCR'])\n"
          ]
        }
      ]
    },
    {
      "cell_type": "code",
      "source": [
        "# data : flattened arrays/tensors used for clustering\n",
        "print(digits.data)"
      ],
      "metadata": {
        "colab": {
          "base_uri": "https://localhost:8080/"
        },
        "id": "_x-uowvToIEy",
        "outputId": "6a028c00-c6bd-4151-ba51-a7749550d6fb"
      },
      "execution_count": null,
      "outputs": [
        {
          "output_type": "stream",
          "name": "stdout",
          "text": [
            "[[ 0.  0.  5. ...  0.  0.  0.]\n",
            " [ 0.  0.  0. ... 10.  0.  0.]\n",
            " [ 0.  0.  0. ... 16.  9.  0.]\n",
            " ...\n",
            " [ 0.  0.  1. ...  6.  0.  0.]\n",
            " [ 0.  0.  2. ... 12.  0.  0.]\n",
            " [ 0.  0. 10. ... 12.  1.  0.]]\n"
          ]
        }
      ]
    },
    {
      "cell_type": "code",
      "source": [
        "digits.data.shape"
      ],
      "metadata": {
        "colab": {
          "base_uri": "https://localhost:8080/"
        },
        "id": "MJs83O5Bo3xd",
        "outputId": "d79706e8-1de7-44f3-d675-1ca2b61b3853"
      },
      "execution_count": null,
      "outputs": [
        {
          "output_type": "execute_result",
          "data": {
            "text/plain": [
              "(1797, 64)"
            ]
          },
          "metadata": {},
          "execution_count": 105
        }
      ]
    },
    {
      "cell_type": "code",
      "source": [
        "# target : label associated with flattened array\n",
        "print(digits.target)"
      ],
      "metadata": {
        "colab": {
          "base_uri": "https://localhost:8080/"
        },
        "id": "-6KhBefhodq7",
        "outputId": "0278dad3-1f8b-4735-a724-24bf2217ecac"
      },
      "execution_count": null,
      "outputs": [
        {
          "output_type": "stream",
          "name": "stdout",
          "text": [
            "[0 1 2 ... 8 9 8]\n"
          ]
        }
      ]
    },
    {
      "cell_type": "code",
      "source": [
        "#run KMeans clustering on digits.data for 1797 records and 64 features\n",
        "\n",
        "kmeans = KMeans(n_clusters=10, random_state=0)\n",
        "clusters = kmeans.fit_predict(digits.data)\n",
        "kmeans.cluster_centers_.shape"
      ],
      "metadata": {
        "colab": {
          "base_uri": "https://localhost:8080/"
        },
        "id": "vbmSOBZIod_6",
        "outputId": "b70886a1-bb4a-47de-e64e-d4ad2bbf89ab"
      },
      "execution_count": null,
      "outputs": [
        {
          "output_type": "execute_result",
          "data": {
            "text/plain": [
              "(10, 64)"
            ]
          },
          "metadata": {},
          "execution_count": 107
        }
      ]
    },
    {
      "cell_type": "code",
      "source": [
        "fig, ax = plt.subplots(2, 5, figsize = (8,3)) #Create a figure and a set of subplots( 2 rows and 5 columns)\n",
        "\n",
        "centers = kmeans.cluster_centers_.reshape(10,8,8)\n",
        "#flattened image can't be viewed, re-transform/reshape/inverse transform it to original form to view matrix shaped image\n",
        "#reshape 10 rows of clusters (k_means.cluster_centers_ = 10,64) and 64 to 8 * 8 matrix\n",
        "\n",
        "for axi, center in zip(ax.flat, centers): #ax.flat:flattening the image & plotting relevant centers\n",
        "  axi.set(xticks = [], yticks = [])\n",
        "  axi.imshow(center, interpolation='nearest',cmap = plt.cm.binary) #imshow(matplotlib method) to render the image in notebook"
      ],
      "metadata": {
        "colab": {
          "base_uri": "https://localhost:8080/",
          "height": 194
        },
        "id": "5NIuShYOpeEL",
        "outputId": "e849bec5-ad13-4b79-a1f3-1133eb0faf89"
      },
      "execution_count": null,
      "outputs": [
        {
          "output_type": "display_data",
          "data": {
            "text/plain": [
              "<Figure size 576x216 with 10 Axes>"
            ],
            "image/png": "[encoded data removed]"
          },
          "metadata": {}
        }
      ]
    },
    {
      "cell_type": "code",
      "source": [
        "labels = np.zeros_like(clusters) # blank labels\n",
        "print(f\"The labels are : {labels}\")\n",
        "print(f\"\\nThe size of labels is : {labels.shape}\")\n",
        "print(\"The mask values are : \")\n",
        "for i in range(10):\n",
        "  mask = (clusters == i)\n",
        "  #if a specific digit belongs to/equivalent a specific cluster then its True else False\n",
        "  print(mask)\n",
        "  labels[mask] = mode(digits.target[mask])[0]"
      ],
      "metadata": {
        "colab": {
          "base_uri": "https://localhost:8080/"
        },
        "id": "wkW7nNHbqitU",
        "outputId": "152fd033-6898-4ae6-ab8f-a7dba587302b"
      },
      "execution_count": null,
      "outputs": [
        {
          "output_type": "stream",
          "name": "stdout",
          "text": [
            "The labels are : [0 0 0 ... 0 0 0]\n",
            "\n",
            "The size of labels is : (1797,)\n",
            "The mask values are : \n",
            "[False False False ... False False False]\n",
            "[False False False ... False False False]\n",
            "[False False False ... False False False]\n",
            "[False False False ... False  True  True]\n",
            "[False False False ... False False False]\n",
            "[ True False False ... False False False]\n",
            "[False False False ... False False False]\n",
            "[False  True  True ...  True False False]\n",
            "[False False False ... False False False]\n",
            "[False False False ... False False False]\n"
          ]
        }
      ]
    },
    {
      "cell_type": "code",
      "source": [
        "from sklearn.metrics import accuracy_score\n",
        "accuracy_score(digits.target, labels)"
      ],
      "metadata": {
        "colab": {
          "base_uri": "https://localhost:8080/"
        },
        "id": "e6iVyySUqq39",
        "outputId": "65e26b9c-f839-4e52-df6a-319f36cb4d96"
      },
      "execution_count": null,
      "outputs": [
        {
          "output_type": "execute_result",
          "data": {
            "text/plain": [
              "0.7935447968836951"
            ]
          },
          "metadata": {},
          "execution_count": 110
        }
      ]
    },
    {
      "cell_type": "code",
      "source": [
        "from sklearn.metrics import confusion_matrix\n",
        "mat = confusion_matrix(digits.target, labels)\n",
        "sns.heatmap(mat.T, square=True, annot=True, fmt='d', cbar=False,\n",
        "            xticklabels=digits.target_names,\n",
        "            yticklabels=digits.target_names)\n",
        "plt.xlabel('true label')\n",
        "plt.ylabel('predicted label');"
      ],
      "metadata": {
        "colab": {
          "base_uri": "https://localhost:8080/",
          "height": 279
        },
        "id": "WS5YK3Cuq5ih",
        "outputId": "ba0a8137-15bf-4d50-d263-8589e4697cc1"
      },
      "execution_count": null,
      "outputs": [
        {
          "output_type": "display_data",
          "data": {
            "text/plain": [
              "<Figure size 432x288 with 1 Axes>"
            ],
            "image/png": "[encoded data removed]"
          },
          "metadata": {
            "needs_background": "light"
          }
        }
      ]
    },
    {
      "cell_type": "code",
      "source": [
        "from sklearn.manifold import TSNE\n",
        "\n",
        "# Project the data: this step will take several seconds\n",
        "tsne = TSNE(n_components=2, init='random', random_state=0)\n",
        "digits_proj = tsne.fit_transform(digits.data)\n",
        "\n",
        "# Compute the clusters\n",
        "kmeans = KMeans(n_clusters=10, random_state=0)\n",
        "clusters = kmeans.fit_predict(digits_proj)\n",
        "\n",
        "# Permute the labels\n",
        "labels = np.zeros_like(clusters)\n",
        "for i in range(10):\n",
        "    mask = (clusters == i)\n",
        "    labels[mask] = mode(digits.target[mask])[0]\n",
        "\n",
        "# Compute the accuracy\n",
        "accuracy_score(digits.target, labels)"
      ],
      "metadata": {
        "colab": {
          "base_uri": "https://localhost:8080/"
        },
        "id": "ULPgiJqqq9Yq",
        "outputId": "74491b0c-7e74-436d-bd04-9862ffe4033f"
      },
      "execution_count": null,
      "outputs": [
        {
          "output_type": "stream",
          "name": "stderr",
          "text": [
            "/usr/local/lib/python3.8/dist-packages/sklearn/manifold/_t_sne.py:790: FutureWarning: The default learning rate in TSNE will change from 200.0 to 'auto' in 1.2.\n",
            "  warnings.warn(\n"
          ]
        },
        {
          "output_type": "execute_result",
          "data": {
            "text/plain": [
              "0.9432387312186978"
            ]
          },
          "metadata": {},
          "execution_count": 112
        }
      ]
    }
  ]
}